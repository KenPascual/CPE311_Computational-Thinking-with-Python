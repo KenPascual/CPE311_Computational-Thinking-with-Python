{
  "nbformat": 4,
  "nbformat_minor": 0,
  "metadata": {
    "colab": {
      "provenance": [],
      "authorship_tag": "ABX9TyPtuz+ym4eO3K90fYbZeadV",
      "include_colab_link": true
    },
    "kernelspec": {
      "name": "python3",
      "display_name": "Python 3"
    },
    "language_info": {
      "name": "python"
    }
  },
  "cells": [
    {
      "cell_type": "markdown",
      "metadata": {
        "id": "view-in-github",
        "colab_type": "text"
      },
      "source": [
        "<a href=\"https://colab.research.google.com/github/KenPascual/CPE311_Computational-Thinking-with-Python/blob/main/CaseStudy1/CPE311_CaseStudy1_Pascual%2CMoldez.ipynb\" target=\"_parent\"><img src=\"https://colab.research.google.com/assets/colab-badge.svg\" alt=\"Open In Colab\"/></a>"
      ]
    },
    {
      "cell_type": "markdown",
      "source": [
        "# Case Study 1: Solving Real-World Problems Using Computational Thinking"
      ],
      "metadata": {
        "id": "VCBkyXK5qRLZ"
      }
    },
    {
      "cell_type": "markdown",
      "source": [
        "Submitted by: <br>\n",
        "* Pascual, Ken Leonard\n",
        "* Moldez, Ericka Sheen"
      ],
      "metadata": {
        "id": "tuvDGdmjrZA5"
      }
    },
    {
      "cell_type": "markdown",
      "source": [
        "## Instructions:\n",
        "\n"
      ],
      "metadata": {
        "id": "nbffyG7JqmKA"
      }
    },
    {
      "cell_type": "markdown",
      "source": [
        "1.   Choose one real-world problem. Discuss the given scenario or the problem.\n",
        "2.   Use the provided template to identify the problem then implement decomposition of the problem, abstraction, and solution modeling.\n",
        "3. Create an algorithm to solve the given problem.\n",
        "4. Apply applicable techniques to solve the problems (optimization, dynamic programming, or graph)\n",
        "5. Create a slide presentation of the case study.\n",
        "6. Createe a folder in your Github repo for the course; the folder must contain your source and pdf of the presentation.\n"
      ],
      "metadata": {
        "id": "aHFX9gzVrjlC"
      }
    },
    {
      "cell_type": "markdown",
      "source": [
        "## Problem:"
      ],
      "metadata": {
        "id": "5qJ0TaPlrt4y"
      }
    },
    {
      "cell_type": "markdown",
      "source": [
        "### Bimodal Transit Integration of Bus and Train Systems in Metro Manila\n",
        "\n",
        "\n",
        "*   Organizing public transport systems in Metro Manila is crucial in fostering a commuter-friendly experience, which can have great ramifications in solving traffic congestion in the region's roads.\n",
        "\n",
        "\n"
      ],
      "metadata": {
        "id": "J6jy4GV-rve6"
      }
    },
    {
      "cell_type": "markdown",
      "source": [
        "## for Graphic Organizer"
      ],
      "metadata": {
        "id": "0iFbH2lxtfIP"
      }
    },
    {
      "cell_type": "markdown",
      "source": [
        "### Iteration 1\n",
        "\n",
        "Understanding the basics of the problem"
      ],
      "metadata": {
        "id": "_iczEtD3tjq-"
      }
    },
    {
      "cell_type": "markdown",
      "source": [
        "#### Problem Identification\n",
        "\n",
        "\n",
        "*   11 Bus Transit Routes\n",
        "*   3 Railway Transit Lines\n",
        "\n"
      ],
      "metadata": {
        "id": "Gr3CDpZQtqUX"
      }
    },
    {
      "cell_type": "markdown",
      "source": [
        "#### Decomposition"
      ],
      "metadata": {
        "id": "bgteNbfOttTX"
      }
    },
    {
      "cell_type": "markdown",
      "source": [
        "\n",
        "\n",
        "*   Identifying all bus stops for each bus transit route\n",
        "*   Identifying all stations for each railway transit line\n"
      ],
      "metadata": {
        "id": "TIxNBPFPxZzB"
      }
    },
    {
      "cell_type": "markdown",
      "source": [
        "#### Pattern Recognition"
      ],
      "metadata": {
        "id": "ssqx9gATtwsv"
      }
    },
    {
      "cell_type": "markdown",
      "source": [
        "\n",
        "\n",
        "*   Bus stops within a bus route are more frequent than train stations within a train line\n",
        "*   Some bus routes have similar paths to train lines\n",
        "*   Some train stations are near to bus stops\n",
        "\n"
      ],
      "metadata": {
        "id": "8V6YbAyCyCMi"
      }
    },
    {
      "cell_type": "markdown",
      "source": [
        "#### Abstraction"
      ],
      "metadata": {
        "id": "GfurMmnJtzEg"
      }
    },
    {
      "cell_type": "markdown",
      "source": [
        "*   Determining"
      ],
      "metadata": {
        "id": "8uUYYozsBpF7"
      }
    },
    {
      "cell_type": "markdown",
      "source": [
        "### Iteration 2"
      ],
      "metadata": {
        "id": "pjmt3ivntl2_"
      }
    },
    {
      "cell_type": "markdown",
      "source": [
        "#### Problem Identification"
      ],
      "metadata": {
        "id": "bigjVWOxuB3_"
      }
    },
    {
      "cell_type": "markdown",
      "source": [
        "#### Decomposition"
      ],
      "metadata": {
        "id": "UJoqOmHOuB3_"
      }
    },
    {
      "cell_type": "markdown",
      "source": [
        "#### Pattern Recognition"
      ],
      "metadata": {
        "id": "moLGrc6SuB3_"
      }
    },
    {
      "cell_type": "markdown",
      "source": [
        "#### Abstraction"
      ],
      "metadata": {
        "id": "t66aOhPsuB3_"
      }
    },
    {
      "cell_type": "markdown",
      "source": [
        "### Iteration 3"
      ],
      "metadata": {
        "id": "DKoW80FPtnmP"
      }
    },
    {
      "cell_type": "markdown",
      "source": [
        "#### Problem Identification"
      ],
      "metadata": {
        "id": "EuDeAT2puEDx"
      }
    },
    {
      "cell_type": "markdown",
      "source": [
        "#### Decomposition"
      ],
      "metadata": {
        "id": "VS7_k1uKuEDx"
      }
    },
    {
      "cell_type": "markdown",
      "source": [
        "#### Pattern Recognition"
      ],
      "metadata": {
        "id": "yE9LEu0MuEDx"
      }
    },
    {
      "cell_type": "markdown",
      "source": [
        "#### Abstraction"
      ],
      "metadata": {
        "id": "V17tWmkMuEDx"
      }
    },
    {
      "cell_type": "markdown",
      "source": [
        "## Source code:"
      ],
      "metadata": {
        "id": "BKcTQUOkrTux"
      }
    },
    {
      "cell_type": "code",
      "source": [],
      "metadata": {
        "id": "ie4frCk2rTTR"
      },
      "execution_count": null,
      "outputs": []
    }
  ]
}