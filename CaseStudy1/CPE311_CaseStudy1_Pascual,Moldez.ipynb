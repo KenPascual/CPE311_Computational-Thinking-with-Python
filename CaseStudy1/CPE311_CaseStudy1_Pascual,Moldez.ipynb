{
  "nbformat": 4,
  "nbformat_minor": 0,
  "metadata": {
    "colab": {
      "provenance": [],
      "authorship_tag": "ABX9TyMymIxxnSVzu/1QrePyZwyY",
      "include_colab_link": true
    },
    "kernelspec": {
      "name": "python3",
      "display_name": "Python 3"
    },
    "language_info": {
      "name": "python"
    }
  },
  "cells": [
    {
      "cell_type": "markdown",
      "metadata": {
        "id": "view-in-github",
        "colab_type": "text"
      },
      "source": [
        "<a href=\"https://colab.research.google.com/github/KenPascual/CPE311_Computational-Thinking-with-Python/blob/main/CaseStudy1/CPE311_CaseStudy1_Pascual%2CMoldez.ipynb\" target=\"_parent\"><img src=\"https://colab.research.google.com/assets/colab-badge.svg\" alt=\"Open In Colab\"/></a>"
      ]
    },
    {
      "cell_type": "markdown",
      "source": [
        "# Case Study 1: Solving Real-World Problems Using Computational Thinking"
      ],
      "metadata": {
        "id": "VCBkyXK5qRLZ"
      }
    },
    {
      "cell_type": "markdown",
      "source": [
        "Submitted by: <br>\n",
        "* Pascual, Ken Leonard\n",
        "* Moldez, Ericka Sheen"
      ],
      "metadata": {
        "id": "tuvDGdmjrZA5"
      }
    },
    {
      "cell_type": "markdown",
      "source": [
        "## Instructions:\n",
        "\n"
      ],
      "metadata": {
        "id": "nbffyG7JqmKA"
      }
    },
    {
      "cell_type": "markdown",
      "source": [
        "1.   Choose one real-world problem. Discuss the given scenario or the problem.\n",
        "2.   Use the provided template to identify the problem then implement decomposition of the problem, abstraction, and solution modeling.\n",
        "3. Create an algorithm to solve the given problem.\n",
        "4. Apply applicable techniques to solve the problems (optimization, dynamic programming, or graph)\n",
        "5. Create a slide presentation of the case study.\n",
        "6. Createe a folder in your Github repo for the course; the folder must contain your source and pdf of the presentation.\n"
      ],
      "metadata": {
        "id": "aHFX9gzVrjlC"
      }
    },
    {
      "cell_type": "markdown",
      "source": [
        "## Problem:"
      ],
      "metadata": {
        "id": "5qJ0TaPlrt4y"
      }
    },
    {
      "cell_type": "markdown",
      "source": [
        "### Bimodal Transit Integration of Bus and Train Systems in Metro Manila\n",
        "\n",
        "\n",
        "*   Organizing public transport systems in Metro Manila is crucial in fostering a commuter-friendly experience, which can have great ramifications in solving traffic congestion in the region's roads.\n",
        "\n",
        "\n"
      ],
      "metadata": {
        "id": "J6jy4GV-rve6"
      }
    },
    {
      "cell_type": "markdown",
      "source": [
        "## for Graphic Organizer"
      ],
      "metadata": {
        "id": "0iFbH2lxtfIP"
      }
    },
    {
      "cell_type": "markdown",
      "source": [
        "### Iteration 1\n",
        "\n",
        "Understanding the basics of the problem. We lay the foundations of understanding this problem brick by brick."
      ],
      "metadata": {
        "id": "_iczEtD3tjq-"
      }
    },
    {
      "cell_type": "markdown",
      "source": [
        "#### Problem Identification\n",
        "\n",
        "\n",
        "\n",
        "\n"
      ],
      "metadata": {
        "id": "Gr3CDpZQtqUX"
      }
    },
    {
      "cell_type": "markdown",
      "source": [
        "We have:\n",
        "*   11 Bus Transit Routes\n",
        "*   3 Railway Transit Lines"
      ],
      "metadata": {
        "id": "4kHK_P2vHkHy"
      }
    },
    {
      "cell_type": "markdown",
      "source": [
        "#### Decomposition"
      ],
      "metadata": {
        "id": "bgteNbfOttTX"
      }
    },
    {
      "cell_type": "markdown",
      "source": [
        "\n",
        "To break down the problem into subproblems:\n",
        "*   Identify all bus stops for each bus transit route\n",
        "*   Identify all stations for each railway transit line\n",
        "* Determine connections between bus routes and/or train lines to identify transfer points"
      ],
      "metadata": {
        "id": "TIxNBPFPxZzB"
      }
    },
    {
      "cell_type": "markdown",
      "source": [
        "#### Pattern Recognition"
      ],
      "metadata": {
        "id": "ssqx9gATtwsv"
      }
    },
    {
      "cell_type": "markdown",
      "source": [
        "Related solutions to draw on:\n",
        "\n",
        "*   Bus stops within a bus route are more frequent than train stations within a train line\n",
        "*   Some bus routes have similar paths to train lines\n",
        "*   Some train stations are near to bus stops, so transfer points may be present here\n",
        "\n"
      ],
      "metadata": {
        "id": "8V6YbAyCyCMi"
      }
    },
    {
      "cell_type": "markdown",
      "source": [
        "#### Abstraction"
      ],
      "metadata": {
        "id": "GfurMmnJtzEg"
      }
    },
    {
      "cell_type": "markdown",
      "source": [
        "How to abstract this problem? </br>\n",
        "Just focus on:\n",
        "*   Determining the starting point and destination point\n",
        "*   Determining what bus stops or stations are within reach of your starting point"
      ],
      "metadata": {
        "id": "8uUYYozsBpF7"
      }
    },
    {
      "cell_type": "markdown",
      "source": [
        "### Iteration 2"
      ],
      "metadata": {
        "id": "pjmt3ivntl2_"
      }
    },
    {
      "cell_type": "markdown",
      "source": [
        "Now that we have identified the components for the problem, we \"glue\" them together.\n",
        "This iteration maps the connections between the routes and determines the cost involved in terms of currency and time to analyze time and cost trade-offs"
      ],
      "metadata": {
        "id": "NKnWH24zHv8K"
      }
    },
    {
      "cell_type": "markdown",
      "source": [
        "#### Problem Identification"
      ],
      "metadata": {
        "id": "bigjVWOxuB3_"
      }
    },
    {
      "cell_type": "markdown",
      "source": [
        "Finding the most favorable route and determining fare between designated points. The favorable route can either:\n",
        "* use bus routes only\n",
        "* use train lines only\n",
        "* use both bus routes and train lines"
      ],
      "metadata": {
        "id": "xRAC-gloHiCi"
      }
    },
    {
      "cell_type": "markdown",
      "source": [
        "#### Decomposition"
      ],
      "metadata": {
        "id": "UJoqOmHOuB3_"
      }
    },
    {
      "cell_type": "markdown",
      "source": [
        "* Identify all possible routes between starting and destination points\n",
        "* determine which routes require transfers between buses and/or trains\n",
        "* calculate travel time for each route (inncluding transfer time if applicable)\n",
        "* calculate fare costs (distance-based)"
      ],
      "metadata": {
        "id": "qXdXOaScIW7c"
      }
    },
    {
      "cell_type": "markdown",
      "source": [
        "#### Pattern Recognition"
      ],
      "metadata": {
        "id": "moLGrc6SuB3_"
      }
    },
    {
      "cell_type": "markdown",
      "source": [
        "* longer routes  = higher fares\n",
        "* more stops = longer travel time\n",
        "* some routes have faster travel time, despite more stops\n",
        "* some routes are cheaper, but takes longer\n",
        "* transfers affect travel time, but no penalty at fare cost"
      ],
      "metadata": {
        "id": "ibWHv8RZLPhc"
      }
    },
    {
      "cell_type": "markdown",
      "source": [
        "#### Abstraction"
      ],
      "metadata": {
        "id": "t66aOhPsuB3_"
      }
    },
    {
      "cell_type": "markdown",
      "source": [
        "* classifying routes based on whether they use bus only, train only, or both\n",
        "* determine pricing\n",
        "* determine travel time"
      ],
      "metadata": {
        "id": "UjHvt2ZXLqN1"
      }
    },
    {
      "cell_type": "markdown",
      "source": [
        "### Iteration 3"
      ],
      "metadata": {
        "id": "DKoW80FPtnmP"
      }
    },
    {
      "cell_type": "markdown",
      "source": [
        "This part builds the algorithm to solve the problem in an optimal manner"
      ],
      "metadata": {
        "id": "O27JrWiDT7QV"
      }
    },
    {
      "cell_type": "markdown",
      "source": [
        "#### Problem Identification"
      ],
      "metadata": {
        "id": "EuDeAT2puEDx"
      }
    },
    {
      "cell_type": "markdown",
      "source": [
        "Developing the algorithm to find:\n",
        "* fastest path\n",
        "* cheapest path\n",
        "* path that is as fast and as cheap as possible"
      ],
      "metadata": {
        "id": "pAtmyXllOlR2"
      }
    },
    {
      "cell_type": "markdown",
      "source": [
        "#### Decomposition"
      ],
      "metadata": {
        "id": "VS7_k1uKuEDx"
      }
    },
    {
      "cell_type": "markdown",
      "source": [
        "Interpret the bimodal transit system as a graph, where:\n",
        "* nodes = bus stops/train stations\n",
        "* edges = connections/transfer points\n",
        "* weights = travel time and fare cost\n"
      ],
      "metadata": {
        "id": "NH17Uad4S8zB"
      }
    },
    {
      "cell_type": "markdown",
      "source": [
        "Implement graph search algorithms to determine shortest path in terms of time or cost\n"
      ],
      "metadata": {
        "id": "r8i_-S1UZW6z"
      }
    },
    {
      "cell_type": "markdown",
      "source": [
        "Implement graph search algorithms by weighted scoring for a route that is as fast and as cheap as possible"
      ],
      "metadata": {
        "id": "r3i7oEbIZfhT"
      }
    },
    {
      "cell_type": "markdown",
      "source": [
        "#### Pattern Recognition"
      ],
      "metadata": {
        "id": "yE9LEu0MuEDx"
      }
    },
    {
      "cell_type": "markdown",
      "source": [
        "* fastest route may cost more\n",
        "* cheapest route may take longer\n",
        "* balanced route is both efficient and cost-effective"
      ],
      "metadata": {
        "id": "1XUAQkC2QDEx"
      }
    },
    {
      "cell_type": "markdown",
      "source": [
        "#### Abstraction"
      ],
      "metadata": {
        "id": "V17tWmkMuEDx"
      }
    },
    {
      "cell_type": "markdown",
      "source": [
        "* represent the bimodal transit network as a graph\n",
        "* let the user decide if it prefers the:\n",
        " * the fastest path\n",
        " * the cheapest path\n",
        " * a path that is as cheap and as fast as possible\n",
        "* Use traversal techniques to generate a route based in user preference"
      ],
      "metadata": {
        "id": "pZj1W4gFP0IQ"
      }
    },
    {
      "cell_type": "markdown",
      "source": [
        "## Source code:"
      ],
      "metadata": {
        "id": "BKcTQUOkrTux"
      }
    },
    {
      "cell_type": "code",
      "source": [
        "import heapq\n",
        "\n",
        "def dijkstra(graph, start, end):\n",
        "    \"\"\"Finds the shortest path using Dijkstra's algorithm\"\"\"\n",
        "    queue = [(0, start, [])]  # (cost, current station, path)\n",
        "    visited = set()\n",
        "\n",
        "    while queue:\n",
        "        cost, node, path = heapq.heappop(queue)\n",
        "\n",
        "        if node in visited:\n",
        "            continue\n",
        "\n",
        "        visited.add(node)\n",
        "        path = path + [node]\n",
        "\n",
        "        if node == end:\n",
        "            return cost, path\n",
        "\n",
        "        for neighbor, travel_cost in graph.get(node, {}).items():\n",
        "            if neighbor not in visited:\n",
        "                heapq.heappush(queue, (cost + travel_cost, neighbor, path))\n",
        "\n",
        "    return float(\"inf\"), []  # No path found\n",
        "\n",
        "# Metro Manila transit network graph (simplified, using estimated fares/time in minutes)\n",
        "metro_graph = {\n",
        "    \"Monumento\": {\"Balintawak\": 5, \"EDSA Carousel\": 10},\n",
        "    \"Balintawak\": {\"Monumento\": 5, \"Roosevelt\": 5},\n",
        "    \"Roosevelt\": {\"Balintawak\": 5, \"North Avenue\": 8},\n",
        "    \"North Avenue\": {\"Roosevelt\": 8, \"Quezon Avenue\": 5, \"EDSA Carousel\": 10},\n",
        "    \"Quezon Avenue\": {\"North Avenue\": 5, \"Kamuning\": 5},\n",
        "    \"Kamuning\": {\"Quezon Avenue\": 5, \"Cubao\": 5},\n",
        "    \"Cubao\": {\"Kamuning\": 5, \"Santolan\": 10, \"EDSA Carousel\": 12},\n",
        "    \"Santolan\": {\"Cubao\": 10, \"Katipunan\": 5},\n",
        "    \"Katipunan\": {\"Santolan\": 5, \"Anonas\": 5},\n",
        "    \"Anonas\": {\"Katipunan\": 5, \"EDSA Carousel\": 10},\n",
        "    \"EDSA Carousel\": {\"Monumento\": 10, \"North Avenue\": 10, \"Cubao\": 12, \"Anonas\": 10, \"Taft Avenue\": 15},\n",
        "    \"Taft Avenue\": {\"EDSA Carousel\": 15, \"Magallanes\": 5},\n",
        "    \"Magallanes\": {\"Taft Avenue\": 5, \"Ayala\": 5},\n",
        "    \"Ayala\": {\"Magallanes\": 5, \"Buendia\": 5},\n",
        "    \"Buendia\": {\"Ayala\": 5, \"Guadalupe\": 5},\n",
        "    \"Guadalupe\": {\"Buendia\": 5, \"Boni\": 5},\n",
        "    \"Boni\": {\"Guadalupe\": 5, \"Shaw Boulevard\": 5},\n",
        "    \"Shaw Boulevard\": {\"Boni\": 5, \"Ortigas\": 5},\n",
        "    \"Ortigas\": {\"Shaw Boulevard\": 5, \"Santolan-Annapolis\": 5},\n",
        "    \"Santolan-Annapolis\": {\"Ortigas\": 5, \"EDSA Taft\": 10},\n",
        "}\n",
        "\n",
        "# User input\n",
        "start = input(\"Enter start station: \")\n",
        "destination = input(\"Enter destination station: \")\n",
        "\n",
        "# Finding the shortest route\n",
        "cost, path = dijkstra(metro_graph, start, destination)\n",
        "\n",
        "# Output the results\n",
        "if path:\n",
        "    print(f\"Shortest route from {start} to {destination}: {' -> '.join(path)} (Time: {cost} mins)\")\n",
        "else:\n",
        "    print(\"No route found!\")\n"
      ],
      "metadata": {
        "id": "ie4frCk2rTTR",
        "colab": {
          "base_uri": "https://localhost:8080/"
        },
        "outputId": "5c66c3ba-c268-429e-e828-d19ed1276c52"
      },
      "execution_count": 1,
      "outputs": [
        {
          "output_type": "stream",
          "name": "stdout",
          "text": [
            "Enter start station: Monumento\n",
            "Enter destination station: Ortigas\n",
            "Shortest route from Monumento to Ortigas: Monumento -> EDSA Carousel -> Taft Avenue -> Magallanes -> Ayala -> Buendia -> Guadalupe -> Boni -> Shaw Boulevard -> Ortigas (Time: 60 mins)\n"
          ]
        }
      ]
    }
  ]
}