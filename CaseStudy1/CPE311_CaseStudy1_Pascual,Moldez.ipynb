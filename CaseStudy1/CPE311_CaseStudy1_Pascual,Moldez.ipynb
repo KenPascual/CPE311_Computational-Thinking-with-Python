{
  "nbformat": 4,
  "nbformat_minor": 0,
  "metadata": {
    "colab": {
      "provenance": [],
      "authorship_tag": "ABX9TyOVmZVOZnH7ROYQezLzjuFz",
      "include_colab_link": true
    },
    "kernelspec": {
      "name": "python3",
      "display_name": "Python 3"
    },
    "language_info": {
      "name": "python"
    }
  },
  "cells": [
    {
      "cell_type": "markdown",
      "metadata": {
        "id": "view-in-github",
        "colab_type": "text"
      },
      "source": [
        "<a href=\"https://colab.research.google.com/github/KenPascual/CPE311_Computational-Thinking-with-Python/blob/main/CaseStudy1/CPE311_CaseStudy1_Pascual%2CMoldez.ipynb\" target=\"_parent\"><img src=\"https://colab.research.google.com/assets/colab-badge.svg\" alt=\"Open In Colab\"/></a>"
      ]
    },
    {
      "cell_type": "markdown",
      "source": [
        "# Case Study 1: Solving Real-World Problems Using Computational Thinking"
      ],
      "metadata": {
        "id": "VCBkyXK5qRLZ"
      }
    },
    {
      "cell_type": "markdown",
      "source": [
        "Submitted by: <br>\n",
        "* Pascual, Ken Leonard\n",
        "* Moldez, Ericka Sheen"
      ],
      "metadata": {
        "id": "tuvDGdmjrZA5"
      }
    },
    {
      "cell_type": "markdown",
      "source": [
        "## Instructions:\n",
        "\n"
      ],
      "metadata": {
        "id": "nbffyG7JqmKA"
      }
    },
    {
      "cell_type": "markdown",
      "source": [
        "1.   Choose one real-world problem. Discuss the given scenario or the problem.\n",
        "2.   Use the provided template to identify the problem then implement decomposition of the problem, abstraction, and solution modeling.\n",
        "3. Create an algorithm to solve the given problem.\n",
        "4. Apply applicable techniques to solve the problems (optimization, dynamic programming, or graph)\n",
        "5. Create a slide presentation of the case study.\n",
        "6. Createe a folder in your Github repo for the course; the folder must contain your source and pdf of the presentation.\n"
      ],
      "metadata": {
        "id": "aHFX9gzVrjlC"
      }
    },
    {
      "cell_type": "markdown",
      "source": [
        "## Problem:"
      ],
      "metadata": {
        "id": "5qJ0TaPlrt4y"
      }
    },
    {
      "cell_type": "markdown",
      "source": [
        "### Bimodal Transit Integration of Bus and Train Systems through Quezon City\n",
        "\n",
        "\n",
        "*   Organizing public transport systems that pass through Quezon City is crucial in fostering a commuter-friendly experience, which can have great ramifications in solving traffic congestion in the city's roads.\n",
        "* Notable roads and highways that pass through Quezon City include Commonwealth Avenue, EDSA, and Aurora boulevard.\n",
        "\n"
      ],
      "metadata": {
        "id": "J6jy4GV-rve6"
      }
    },
    {
      "cell_type": "markdown",
      "source": [
        "## for Graphic Organizer"
      ],
      "metadata": {
        "id": "0iFbH2lxtfIP"
      }
    },
    {
      "cell_type": "markdown",
      "source": [
        "### Iteration 1\n",
        "\n",
        "Understanding the basics of the problem. We lay the foundations of understanding this problem brick by brick."
      ],
      "metadata": {
        "id": "_iczEtD3tjq-"
      }
    },
    {
      "cell_type": "markdown",
      "source": [
        "#### Problem Identification\n",
        "\n",
        "\n",
        "\n",
        "\n"
      ],
      "metadata": {
        "id": "Gr3CDpZQtqUX"
      }
    },
    {
      "cell_type": "markdown",
      "source": [
        "We have:\n",
        "*   5 Bus Transit Routes running through Quezon City\n",
        "*   2 Railway Transit Lines"
      ],
      "metadata": {
        "id": "4kHK_P2vHkHy"
      }
    },
    {
      "cell_type": "markdown",
      "source": [
        "#### Decomposition"
      ],
      "metadata": {
        "id": "bgteNbfOttTX"
      }
    },
    {
      "cell_type": "markdown",
      "source": [
        "\n",
        "To break down the problem into subproblems:\n",
        "*   Identify all bus stops for each bus transit route\n",
        "*   Identify all stations for each railway transit line\n",
        "* Determine connections between bus routes and/or train lines to identify transfer points"
      ],
      "metadata": {
        "id": "TIxNBPFPxZzB"
      }
    },
    {
      "cell_type": "markdown",
      "source": [
        "#### Pattern Recognition"
      ],
      "metadata": {
        "id": "ssqx9gATtwsv"
      }
    },
    {
      "cell_type": "markdown",
      "source": [
        "Related solutions to draw on:\n",
        "\n",
        "*   Bus stops within a bus route are more frequent than train stations within a train line\n",
        "*   Some bus routes have similar paths to train lines\n",
        "*   Some train stations are near to bus stops, so transfer points may be present here\n",
        "\n"
      ],
      "metadata": {
        "id": "8V6YbAyCyCMi"
      }
    },
    {
      "cell_type": "markdown",
      "source": [
        "#### Abstraction"
      ],
      "metadata": {
        "id": "GfurMmnJtzEg"
      }
    },
    {
      "cell_type": "markdown",
      "source": [
        "How to abstract this problem? </br>\n",
        "Just focus on:\n",
        "*   Determining the starting point and destination point\n",
        "*   Determining what bus stops or stations are within reach of your starting point"
      ],
      "metadata": {
        "id": "8uUYYozsBpF7"
      }
    },
    {
      "cell_type": "markdown",
      "source": [
        "### Iteration 2"
      ],
      "metadata": {
        "id": "pjmt3ivntl2_"
      }
    },
    {
      "cell_type": "markdown",
      "source": [
        "Now that we have identified the components for the problem, we \"glue\" them together.\n",
        "This iteration maps the connections between the routes and determines the cost involved in terms of currency and time to analyze time and cost trade-offs"
      ],
      "metadata": {
        "id": "NKnWH24zHv8K"
      }
    },
    {
      "cell_type": "markdown",
      "source": [
        "#### Problem Identification"
      ],
      "metadata": {
        "id": "bigjVWOxuB3_"
      }
    },
    {
      "cell_type": "markdown",
      "source": [
        "Finding the most favorable route and determining fare between designated points. The favorable route can either:\n",
        "* use bus routes only\n",
        "* use train lines only\n",
        "* use both bus routes and train lines"
      ],
      "metadata": {
        "id": "xRAC-gloHiCi"
      }
    },
    {
      "cell_type": "markdown",
      "source": [
        "#### Decomposition"
      ],
      "metadata": {
        "id": "UJoqOmHOuB3_"
      }
    },
    {
      "cell_type": "markdown",
      "source": [
        "* Identify all possible routes between starting and destination points\n",
        "* determine which routes require transfers between buses and/or trains\n",
        "* calculate travel time for each route (inncluding transfer time if applicable)"
      ],
      "metadata": {
        "id": "qXdXOaScIW7c"
      }
    },
    {
      "cell_type": "markdown",
      "source": [
        "#### Pattern Recognition"
      ],
      "metadata": {
        "id": "moLGrc6SuB3_"
      }
    },
    {
      "cell_type": "markdown",
      "source": [
        "* more stops = longer travel time\n",
        "* some routes have faster travel time, despite more stops"
      ],
      "metadata": {
        "id": "ibWHv8RZLPhc"
      }
    },
    {
      "cell_type": "markdown",
      "source": [
        "#### Abstraction"
      ],
      "metadata": {
        "id": "t66aOhPsuB3_"
      }
    },
    {
      "cell_type": "markdown",
      "source": [
        "* classifying routes based on whether they use bus only, train only, or both\n",
        "* determine travel time"
      ],
      "metadata": {
        "id": "UjHvt2ZXLqN1"
      }
    },
    {
      "cell_type": "markdown",
      "source": [
        "### Iteration 3"
      ],
      "metadata": {
        "id": "DKoW80FPtnmP"
      }
    },
    {
      "cell_type": "markdown",
      "source": [
        "This part builds the algorithm to solve the problem in an optimal manner"
      ],
      "metadata": {
        "id": "O27JrWiDT7QV"
      }
    },
    {
      "cell_type": "markdown",
      "source": [
        "#### Problem Identification"
      ],
      "metadata": {
        "id": "EuDeAT2puEDx"
      }
    },
    {
      "cell_type": "markdown",
      "source": [
        "Developing the algorithm to find:\n",
        "* fastest path\n"
      ],
      "metadata": {
        "id": "pAtmyXllOlR2"
      }
    },
    {
      "cell_type": "markdown",
      "source": [
        "#### Decomposition"
      ],
      "metadata": {
        "id": "VS7_k1uKuEDx"
      }
    },
    {
      "cell_type": "markdown",
      "source": [
        "Interpret the bimodal transit system as a graph, where:\n",
        "* nodes = bus stops/train stations\n",
        "* edges = connections/transfer points\n",
        "* weights = travel time and fare cost\n"
      ],
      "metadata": {
        "id": "NH17Uad4S8zB"
      }
    },
    {
      "cell_type": "markdown",
      "source": [
        "Implement graph search algorithms to determine shortest path in terms of time or cost\n"
      ],
      "metadata": {
        "id": "r8i_-S1UZW6z"
      }
    },
    {
      "cell_type": "markdown",
      "source": [
        "Implement graph search algorithms by weighted scoring for a route that is as fast and as cheap as possible"
      ],
      "metadata": {
        "id": "r3i7oEbIZfhT"
      }
    },
    {
      "cell_type": "markdown",
      "source": [
        "#### Pattern Recognition"
      ],
      "metadata": {
        "id": "yE9LEu0MuEDx"
      }
    },
    {
      "cell_type": "markdown",
      "source": [
        "* fastest route may cost more\n",
        "* cheapest route may take longer\n",
        "* balanced route is both efficient and cost-effective"
      ],
      "metadata": {
        "id": "1XUAQkC2QDEx"
      }
    },
    {
      "cell_type": "markdown",
      "source": [
        "#### Abstraction"
      ],
      "metadata": {
        "id": "V17tWmkMuEDx"
      }
    },
    {
      "cell_type": "markdown",
      "source": [
        "* represent the bimodal transit network as a graph\n",
        "* let the user decide if it prefers the:\n",
        " * the fastest path\n",
        "\n",
        "* Use traversal techniques to generate a route based in user preference"
      ],
      "metadata": {
        "id": "pZj1W4gFP0IQ"
      }
    },
    {
      "cell_type": "markdown",
      "source": [
        "## Source code:"
      ],
      "metadata": {
        "id": "BKcTQUOkrTux"
      }
    },
    {
      "cell_type": "code",
      "source": [
        "import heapq\n",
        "\n",
        "def dijkstra(graph, start, end):\n",
        "    \"\"\"Finds the shortest path using Dijkstra's algorithm\"\"\"\n",
        "    queue = [(0, start, [])]  # (cost, current station, path)\n",
        "    visited = set()\n",
        "\n",
        "    while queue:\n",
        "        cost, node, path = heapq.heappop(queue)\n",
        "\n",
        "        if node in visited:\n",
        "            continue\n",
        "\n",
        "        visited.add(node)\n",
        "        path = path + [node]\n",
        "\n",
        "        if node == end:\n",
        "            return cost, path\n",
        "\n",
        "        for neighbor, travel_cost in graph.get(node, {}).items():\n",
        "            if neighbor not in visited:\n",
        "                heapq.heappush(queue, (cost + travel_cost, neighbor, path))\n",
        "\n",
        "    return float(\"inf\"), []  # No path found\n",
        "\n",
        "# Metro Manila transit network graph (simplified, using estimated fares/time in minutes)\n",
        "metro_graph = {\n",
        "    \"Monumento\": {\"Balintawak\": 5, \"EDSA Carousel\": 10},\n",
        "    \"Balintawak\": {\"Monumento\": 5, \"Roosevelt\": 5},\n",
        "    \"Roosevelt\": {\"Balintawak\": 5, \"North Avenue\": 8},\n",
        "    \"North Avenue\": {\"Roosevelt\": 8, \"Quezon Avenue\": 5, \"EDSA Carousel\": 10},\n",
        "    \"Quezon Avenue\": {\"North Avenue\": 5, \"Kamuning\": 5},\n",
        "    \"Kamuning\": {\"Quezon Avenue\": 5, \"Cubao\": 5},\n",
        "    \"Cubao\": {\"Kamuning\": 5, \"Santolan\": 10, \"EDSA Carousel\": 12},\n",
        "    \"Santolan\": {\"Cubao\": 10, \"Katipunan\": 5},\n",
        "    \"Katipunan\": {\"Santolan\": 5, \"Anonas\": 5},\n",
        "    \"Anonas\": {\"Katipunan\": 5, \"EDSA Carousel\": 10},\n",
        "    \"EDSA Carousel\": {\"Monumento\": 10, \"North Avenue\": 10, \"Cubao\": 12, \"Anonas\": 10, \"Taft Avenue\": 15},\n",
        "    \"Taft Avenue\": {\"EDSA Carousel\": 15, \"Magallanes\": 5},\n",
        "    \"Magallanes\": {\"Taft Avenue\": 5, \"Ayala\": 5},\n",
        "    \"Ayala\": {\"Magallanes\": 5, \"Buendia\": 5},\n",
        "    \"Buendia\": {\"Ayala\": 5, \"Guadalupe\": 5},\n",
        "    \"Guadalupe\": {\"Buendia\": 5, \"Boni\": 5},\n",
        "    \"Boni\": {\"Guadalupe\": 5, \"Shaw Boulevard\": 5},\n",
        "    \"Shaw Boulevard\": {\"Boni\": 5, \"Ortigas\": 5},\n",
        "    \"Ortigas\": {\"Shaw Boulevard\": 5, \"Santolan-Annapolis\": 5},\n",
        "    \"Santolan-Annapolis\": {\"Ortigas\": 5, \"EDSA Taft\": 10},\n",
        "}\n",
        "\n",
        "# User input\n",
        "start = input(\"Enter start station: \")\n",
        "destination = input(\"Enter destination station: \")\n",
        "\n",
        "# Finding the shortest route\n",
        "cost, path = dijkstra(metro_graph, start, destination)\n",
        "\n",
        "# Output the results\n",
        "if path:\n",
        "    print(f\"Shortest route from {start} to {destination}: {' -> '.join(path)} (Time: {cost} mins)\")\n",
        "else:\n",
        "    print(\"No route found!\")\n"
      ],
      "metadata": {
        "id": "ie4frCk2rTTR",
        "colab": {
          "base_uri": "https://localhost:8080/"
        },
        "outputId": "46b1ca00-d4e5-4b41-ae1a-bd17eecbbd5a"
      },
      "execution_count": null,
      "outputs": [
        {
          "output_type": "stream",
          "name": "stdout",
          "text": [
            "Enter start station: Monumento\n",
            "Enter destination station: Ortigas\n",
            "Shortest route from Monumento to Ortigas: Monumento -> EDSA Carousel -> Taft Avenue -> Magallanes -> Ayala -> Buendia -> Guadalupe -> Boni -> Shaw Boulevard -> Ortigas (Time: 60 mins)\n"
          ]
        }
      ]
    },
    {
      "cell_type": "markdown",
      "source": [
        "#scratch\n"
      ],
      "metadata": {
        "id": "RSKr2nesHBjd"
      }
    },
    {
      "cell_type": "code",
      "source": [
        "graph_mrt3 = {\n",
        "    \"North Avenue\": [(\"Quezon Avenue\", 3)],\n",
        "    \"Quezon Avenue\": [(\"North Avenue\", 3), (\"GMA-Kamuning\", 2)],\n",
        "    \"GMA-Kamuning\": [(\"Quezon Avenue\", 2), (\"Cubao\", 2)],\n",
        "    \"Cubao\": [(\"GMA-Kamuning\", 2), (\"Santolan-Annapolis\", 2)],\n",
        "    \"Santolan-Annapolis\": [(\"Cubao\", 2), (\"Ortigas\", 3)],\n",
        "    \"Ortigas\": [(\"Santolan-Annapolis\", 3), (\"Shaw Boulevard\", 2)],\n",
        "    \"Shaw Boulevard\": [(\"Ortigas\", 2), (\"Boni\", 2)],\n",
        "    \"Boni\": [(\"Shaw Boulevard\", 2), (\"Guadalupe\", 3)],\n",
        "    \"Guadalupe\": [(\"Boni\", 3), (\"Buendia\", 2)],\n",
        "    \"Buendia\": [(\"Guadalupe\", 2), (\"Ayala\", 2)],\n",
        "    \"Ayala\": [(\"Buendia\", 2), (\"Magallanes\", 3)],\n",
        "    \"Magallanes\": [(\"Ayala\", 3), (\"Taft Avenue\", 2)],\n",
        "    \"Taft Avenue\": [(\"Magallanes\", 2)]\n",
        "}\n",
        "\n",
        "graph_lrt2 = {\n",
        "    \"Recto\": [(\"Legarda\", 3)],\n",
        "    \"Legarda\": [(\"Recto\", 3), (\"Pureza\", 2)],\n",
        "    \"Pureza\": [(\"Legarda\", 2), (\"V. Mapa\", 2)],\n",
        "    \"V. Mapa\": [(\"Legarda\", 2), (\"J. Ruiz\", 2)],\n",
        "    \"J. Ruiz\": [(\"V. Mapa\", 2), (\"Gilmore\", 3)],\n",
        "    \"Gilmore\": [(\"J. Ruiz\", 3), (\"Betty Go-Belmonte\", 2)],\n",
        "    \"Betty Go-Belmonte\": [(\"Gilmore\", 2), (\"Araneta-Cubao\", 2)],\n",
        "    \"Araneta-Cubao\": [(\"Betty Go-Belmonte\", 2), (\"Anonas\", 3)],\n",
        "    \"Anonas\": [(\"Araneta-Cubao\", 3), (\"Katipunan\", 2)],\n",
        "    \"Katipunan\": [(\"Anonas\", 2), (\"Santolan\", 2)],\n",
        "    \"Santolan\": [(\"Katipunan\", 2), (\"Marikina-Pasig\", 3)],\n",
        "    \"Marikina-Pasig\": [(\"Santolan\", 3), (\"Antipolo\", 2)],\n",
        "    \"Antipolo\": [(\"Marikina-Pasig\", 2)]\n",
        "}\n",
        "\n",
        "graph_edsabus = {\n",
        "    \"Monumento\": [(\"Bagong Barrio\", 3)],\n",
        "    \"Bagong Barrio\": [(\"Monumento\", 3), (\"Balintawak\", 3)],\n",
        "    \"Balintawak\": [(\"Bagong Barrio\", 3), (\"Kaingin Road\", 2)],\n",
        "    \"Kaingin Road\": [(\"Balintawak\", 2), (\"Roosevelt\", 2)],\n",
        "    \"Roosevelt\": [(\"Kaingin Road\", 2), (\"North Avenue\", 3)],\n",
        "    \"North Avenue\": [(\"Roosevelt\", 3), (\"Quezon Avenue\", 2)],\n",
        "    \"Quezon Avenue\": [(\"North Avenue\", 2), (\"Mega Q-Mart\", 2)],\n",
        "    \"Mega Q-Mart\": [(\"Quezon Avenue\", 2), (\"Main Avenue\", 3)],\n",
        "    \"Main Avenue\": [(\"Mega Q-Mart\", 3), (\"Santolan\", 2)],\n",
        "    \"Santolan\": [(\"Main Avenue\", 2), (\"Ortigas\", 2)],\n",
        "    \"Ortigas\": [(\"Santolan\", 2), (\"Guadalupe\", 3)],\n",
        "    \"Guadalupe\": [(\"Ortigas\", 3), (\"Buendia\", 2)],\n",
        "    \"Buendia\": [(\"Guadalupe\", 2), (\"Ayala\", 2)],\n",
        "    \"Ayala\": [(\"Buendia\", 2), (\"Tramo\", 3)],\n",
        "    \"Tramo\": [(\"Ayala\", 3), (\"Taft Avenue\", 2)],\n",
        "    \"Taft Avenue\": [(\"Tramo\", 2), (\"Roxas Boulevard\", 2)],\n",
        "    \"Roxas Boulevard\": [(\"Taft Avenue\", 2), (\"SM MOA\", 2)],\n",
        "    \"SM MOA\": [(\"Roxas Boulevard\", 2), (\"Macapagal-Bradco Avenue\", 2)],\n",
        "    \"Macapagal-Bradco Avenue\": [(\"SM MOA\", 2), (\"City of Dreams\", 2)],\n",
        "    \"City of Dreams\": [(\"Macapagal-Bradco Avenue\", 2), (\"Ayala Malls Manila Bay\", 2)],\n",
        "    \"Ayala Malls Manila Bay\": [(\"City of Dreams\", 2), (\"PITX Terminal\", 2)],\n",
        "    \"PITX Terminal\": [(\"Ayala Malls Manila Bay\", 2)]\n",
        "}\n",
        "\n",
        "graph_bus9 = {\n",
        "    \"Cubao\": [(\"15th Avenue\", 3)],\n",
        "    \"15th Avenue\": [(\"Cubao\", 3), (\"Anonas\", 3)],\n",
        "    \"Anonas\": [(\"15th Avenue\", 3), (\"Katipunan\", 2)],\n",
        "    \"Katipunan\": [(\"Anonas\", 2), (\"SM Marikina\", 3)],\n",
        "    \"SM Marikina\": [(\"Katipunan\", 3), (\"Ligaya\", 2)],\n",
        "    \"Ligaya\": [(\"SM Marikina\", 2), (\"Sta. Lucia Grandmall\", 2)],\n",
        "    \"Sta. Lucia Grandmall\": [(\"Ligaya\", 2), (\"Filinvest\", 3)],\n",
        "    \"Filinvest\": [(\"Sta. Lucia Grandmall\", 3), (\"Masinag\", 2)],\n",
        "    \"Masinag\": [(\"Filinvest\", 2), (\"Kingsville\", 2)],\n",
        "    \"Kingsville\": [(\"Masinag\", 2), (\"Xentro Mall\", 3)],\n",
        "    \"Xentro Mall\": [(\"Kingsville\", 3), (\"FUMC\", 2)],\n",
        "    \"FUMC\": [(\"Xentro Mall\", 2), (\"La Montana\", 2)],\n",
        "    \"La Montana\": [(\"FUMC\", 2), (\"Senora Dela Paz\", 3)],\n",
        "    \"Senora Dela Paz\": [(\"La Montana\", 3), (\"Olalia\", 2)],\n",
        "    \"Olalia\": [(\"Senora Dela Paz\", 2), (\"Antipolo\", 2)],\n",
        "    \"Antipolo\": [(\"Olalia\", 2)]\n",
        "}\n"
      ],
      "metadata": {
        "id": "4WkwG73iHSKG"
      },
      "execution_count": null,
      "outputs": []
    },
    {
      "cell_type": "code",
      "source": [
        "import networkx as nx\n",
        "import matplotlib.pyplot as plt\n",
        "\n",
        "G = nx.DiGraph()\n",
        "\n",
        "# Add edges with weights\n",
        "for station, neighbors in graph_mrt3.items():\n",
        "    for neighbor, weight in neighbors:\n",
        "        G.add_edge(station, neighbor, weight=weight)\n",
        "\n",
        "# Draw the graph\n",
        "plt.figure(figsize=(12, 6))\n",
        "pos = nx.shell_layout(G)  # Alternative: nx.spring_layout(G)\n",
        "nx.draw(G, pos, with_labels=True, node_color=\"lightblue\", edge_color=\"gray\", node_size=2000, font_size=10)\n",
        "nx.draw_networkx_edge_labels(G, pos, edge_labels={(u, v): d[\"weight\"] for u, v, d in G.edges(data=True)})\n",
        "\n",
        "plt.title(\"MRT-3 Train Line Graph\")\n",
        "plt.show()\n",
        "\n"
      ],
      "metadata": {
        "id": "0gXPMD2HHDI2",
        "outputId": "55bf56e0-a624-4cfb-b25c-a20976ffec55",
        "colab": {
          "base_uri": "https://localhost:8080/",
          "height": 659
        }
      },
      "execution_count": null,
      "outputs": [
        {
          "output_type": "display_data",
          "data": {
            "text/plain": [
              "<Figure size 1200x600 with 1 Axes>"
            ],
            "image/png": "[encoded data removed]"
          },
          "metadata": {}
        }
      ]
    }
  ]
}