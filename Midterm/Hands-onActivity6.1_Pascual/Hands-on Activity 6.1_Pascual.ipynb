{
 "cells": [
  {
   "cell_type": "markdown",
   "id": "6c80071b-6724-4054-af0c-be29a3f73761",
   "metadata": {},
   "source": [
    "# Hands-on Activity 6.1 Introduction to Data Analysis and Tools"
   ]
  },
  {
   "cell_type": "markdown",
   "id": "9450ed0b-a4f0-43ac-935e-7b727050fe4e",
   "metadata": {},
   "source": [
    "### CPE311 Computational Thinking with Python"
   ]
  },
  {
   "cell_type": "markdown",
   "id": "39256102-ceb1-4a8b-aee3-22984ae66dc1",
   "metadata": {},
   "source": [
    "Name: Pascual, Ken Leonard"
   ]
  },
  {
   "cell_type": "markdown",
   "id": "0e05e6ca-52d7-49f2-8687-53e52ab521f0",
   "metadata": {},
   "source": [
    "Section: CPE22S3"
   ]
  },
  {
   "cell_type": "markdown",
   "id": "64d1cfdf-6bf3-45ff-9fe9-848b4b0f56ff",
   "metadata": {},
   "source": [
    "Performed on: 04/05/2025"
   ]
  },
  {
   "cell_type": "markdown",
   "id": "5671699c-f283-4867-8b38-297718396142",
   "metadata": {},
   "source": [
    "Submitted on: 04/05/2025"
   ]
  },
  {
   "cell_type": "markdown",
   "id": "05c1be19-94dc-4833-81bf-de16d00eb57c",
   "metadata": {},
   "source": [
    "Submitted to: Engr. Roman M. Richard"
   ]
  },
  {
   "cell_type": "markdown",
   "id": "abb66822-bb90-4484-8301-b3cf53c8d69b",
   "metadata": {},
   "source": [
    "## 6.1 Intended Learning Outcome"
   ]
  },
  {
   "cell_type": "markdown",
   "id": "b82c6709-1d32-48a4-a1f6-ece5a3db2843",
   "metadata": {},
   "source": [
    "1. Use pandas and numpy data analysis tools"
   ]
  },
  {
   "cell_type": "markdown",
   "id": "ac692de0-1df9-4ab1-80e2-1aa596f0e1b3",
   "metadata": {},
   "source": [
    "2. Demonstrate how to analyze data using numpy and pandas"
   ]
  },
  {
   "cell_type": "markdown",
   "id": "7a7be715-d2b1-4189-8123-1b2ea6a535a5",
   "metadata": {},
   "source": [
    "## 6.2 Resources"
   ]
  },
  {
   "cell_type": "markdown",
   "id": "674ff270-2115-458f-81ff-ebbdb7e1a91d",
   "metadata": {},
   "source": [
    "* Personal Computer"
   ]
  },
  {
   "cell_type": "markdown",
   "id": "76064058-5dba-46b1-99f9-ba7be3f407f0",
   "metadata": {},
   "source": [
    "* Jupyter Notebook"
   ]
  },
  {
   "cell_type": "markdown",
   "id": "092d6786-ea7d-4917-8566-4ee2ee107a86",
   "metadata": {},
   "source": [
    "* Internet Connection"
   ]
  },
  {
   "cell_type": "markdown",
   "id": "46ab8590-4850-4334-bc1d-6a77551e2e0d",
   "metadata": {},
   "source": [
    "## 6.3 Supplementary Activities"
   ]
  },
  {
   "cell_type": "markdown",
   "id": "4cc10b77-c626-4f16-9c4a-d0e4548cf7fc",
   "metadata": {},
   "source": [
    "### Exercise 1"
   ]
  },
  {
   "cell_type": "markdown",
   "id": "bad69f60-99d2-4216-9d25-5ca44dca661e",
   "metadata": {},
   "source": [
    "Run the given code below for exercises 1 and 2, perform the given tasks without usig any Python modules."
   ]
  },
  {
   "cell_type": "code",
   "execution_count": 1,
   "id": "0f2b88dd-6383-4961-9e5a-4b5f0018e438",
   "metadata": {},
   "outputs": [
    {
     "name": "stdout",
     "output_type": "stream",
     "text": [
      "[844000.0, 758000.0, 421000.0, 259000.0, 511000.0, 405000.0, 784000.0, 303000.0, 477000.0, 583000.0, 908000.0, 505000.0, 282000.0, 756000.0, 618000.0, 251000.0, 910000.0, 983000.0, 810000.0, 902000.0, 310000.0, 730000.0, 899000.0, 684000.0, 472000.0, 101000.0, 434000.0, 611000.0, 913000.0, 967000.0, 477000.0, 865000.0, 260000.0, 805000.0, 549000.0, 14000.0, 720000.0, 399000.0, 825000.0, 668000.0, 1000.0, 494000.0, 868000.0, 244000.0, 325000.0, 870000.0, 191000.0, 568000.0, 239000.0, 968000.0, 803000.0, 448000.0, 80000.0, 320000.0, 508000.0, 933000.0, 109000.0, 551000.0, 707000.0, 547000.0, 814000.0, 540000.0, 964000.0, 603000.0, 588000.0, 445000.0, 596000.0, 385000.0, 576000.0, 290000.0, 189000.0, 187000.0, 613000.0, 657000.0, 477000.0, 90000.0, 758000.0, 877000.0, 923000.0, 842000.0, 898000.0, 923000.0, 541000.0, 391000.0, 705000.0, 276000.0, 812000.0, 849000.0, 895000.0, 590000.0, 950000.0, 580000.0, 451000.0, 660000.0, 996000.0, 917000.0, 793000.0, 82000.0, 613000.0, 486000.0]\n"
     ]
    }
   ],
   "source": [
    "import random\n",
    "random.seed(0)\n",
    "salaries = [round(random.random()*1000000, -3) for _ in range(100)]\n",
    "print(salaries)"
   ]
  },
  {
   "cell_type": "markdown",
   "id": "b731483a-403e-4c17-be6d-519c00c9f775",
   "metadata": {},
   "source": [
    "Using the data generated above, calculate the following statistics without importing anything from the statistics module i the standard library. (https://docs.python.org/3/library/statistics.html) and then confirm your results match up to those that are\n",
    "obtained when using the statistics module (where possible):"
   ]
  },
  {
   "cell_type": "markdown",
   "id": "2c836161-0f29-4e1e-b586-983c74649526",
   "metadata": {},
   "source": [
    "#### * Mean"
   ]
  },
  {
   "cell_type": "markdown",
   "id": "e3164699-b9c8-414a-a770-bf42fba9ba7d",
   "metadata": {},
   "source": [
    " Finding the mean is equal to sum of the terms divided by the number of terms so, without a statistics module, the mean can be computed by doing the following:"
   ]
  },
  {
   "cell_type": "code",
   "execution_count": 2,
   "id": "e96d2e90-4629-4832-a5af-bda2395f100f",
   "metadata": {},
   "outputs": [
    {
     "name": "stdout",
     "output_type": "stream",
     "text": [
      "585690.0\n"
     ]
    }
   ],
   "source": [
    "mean_no_stat = sum(salaries) / len(salaries)\n",
    "print(mean_no_stat)"
   ]
  },
  {
   "cell_type": "code",
   "execution_count": 3,
   "id": "d01829e8-bb67-4a3f-9509-60bcb6e721a2",
   "metadata": {},
   "outputs": [
    {
     "name": "stdout",
     "output_type": "stream",
     "text": [
      "585690.0\n"
     ]
    }
   ],
   "source": [
    "# check if output matches that of using statistics modules in the standard library\n",
    "from statistics import mean\n",
    "mean_wstat = mean(salaries)\n",
    "print(mean_wstat)"
   ]
  },
  {
   "cell_type": "markdown",
   "id": "69315122-26f1-4899-a4f0-ef8cb92fd688",
   "metadata": {},
   "source": [
    "#### * Median"
   ]
  },
  {
   "cell_type": "markdown",
   "id": "f75625bc-dfdf-4600-8269-4112d0fb22be",
   "metadata": {},
   "source": [
    "There are two ways to find the median, depending on whether the number of observations is odd or even. For this, I used [this](https://stackoverflow.com/questions/21837208/check-if-a-number-is-odd-or-even-in-python) so that the program will decide what formula to use."
   ]
  },
  {
   "cell_type": "code",
   "execution_count": 4,
   "id": "a28460ba-48c4-41d5-a34e-7a2cfec369dd",
   "metadata": {},
   "outputs": [
    {
     "name": "stdout",
     "output_type": "stream",
     "text": [
      "589000.0\n"
     ]
    }
   ],
   "source": [
    "salaries.sort()\n",
    "n = len(salaries)\n",
    "\n",
    "if len(salaries) % 2 == 0: # the number of terms is even\n",
    "    # find the two middle values\n",
    "    middle1 = salaries[n//2-1]\n",
    "    middle2 = salaries[n//2]\n",
    "    # find the average of the two middle values\n",
    "    median_no_stat = (middle1 + middle2) / 2\n",
    "\n",
    "else: # the number of terms is odd\n",
    "    median_no_stat = salaries[n // 2]\n",
    "    # use the result of n//2 as an index to find what element within salaries list is the median\n",
    "\n",
    "print(median_no_stat)"
   ]
  },
  {
   "cell_type": "code",
   "execution_count": 5,
   "id": "87f58c8f-e683-401a-b8d2-f5a3d06d0195",
   "metadata": {},
   "outputs": [
    {
     "data": {
      "text/plain": [
       "589000.0"
      ]
     },
     "execution_count": 5,
     "metadata": {},
     "output_type": "execute_result"
    }
   ],
   "source": [
    "# check if output matches that of using statistics modules in the standard library\n",
    "from statistics import median\n",
    "salaries.sort()\n",
    "median(salaries)"
   ]
  },
  {
   "cell_type": "markdown",
   "id": "a91ad7cd-611f-4624-b597-0e50b2b4bf6c",
   "metadata": {},
   "source": [
    "#### * Mode\n",
    "(hint: check out the Counter in the collections module of the standard library at\n",
    "https://docs.python.org/3/library/collections.html#collections.Counter)"
   ]
  },
  {
   "cell_type": "markdown",
   "id": "9b97badc-e7b0-47f8-862c-5f698e4ee4a5",
   "metadata": {},
   "source": [
    "[Reference I used for this method](https://realpython.com/python-counter/#:~:text=To%20find%20the%20mode%20with,the%20highest%20number%20of%20occurrences.)"
   ]
  },
  {
   "cell_type": "code",
   "execution_count": 6,
   "id": "7dee211e-9a26-4629-829b-29c7fffa6a8f",
   "metadata": {},
   "outputs": [
    {
     "name": "stdout",
     "output_type": "stream",
     "text": [
      "The value that appears the most number of times is 477000.0.\n",
      "It appeared 3 times.\n"
     ]
    }
   ],
   "source": [
    "from collections import Counter\n",
    "def mode(value):\n",
    "    #the Counter counts how many times an element appears in a set of data\n",
    "    count_em = Counter(value)\n",
    "    # output of this one is the value of the mode\n",
    "    mode_no_stat , _= count_em.most_common(1)[0]\n",
    "    # output of this one is how many times the mode appeared\n",
    "    _ , mode_value = count_em.most_common(1)[0]\n",
    "    \"\"\"\n",
    "    count_em.most_common(1)[0] picks the pair of values that indicate (the value in the list, then how many times it appeared)\n",
    "    for example, the highest value is 477000, and it appeared 3 times. In count_em, it appears as 477000: 3. \n",
    "    So we pluck that out and take it as the output.\n",
    "    \"\"\"\n",
    "    print(f\"The value that appears the most number of times is {mode_no_stat}.\\nIt appeared {mode_value} times.\")\n",
    "\n",
    "# use the function for the salaries list\n",
    "mode(salaries)"
   ]
  },
  {
   "cell_type": "code",
   "execution_count": 7,
   "id": "7b12f4d2-2d18-4c14-8228-458dbedb544b",
   "metadata": {},
   "outputs": [
    {
     "data": {
      "text/plain": [
       "477000.0"
      ]
     },
     "execution_count": 7,
     "metadata": {},
     "output_type": "execute_result"
    }
   ],
   "source": [
    "# check if output matches that of using statistics modules in the standard library\n",
    "from statistics import mode\n",
    "mode(salaries)"
   ]
  },
  {
   "cell_type": "markdown",
   "id": "3cae25d3-ff71-4de8-9dc8-963ce8a06f16",
   "metadata": {},
   "source": [
    "#### * Sample variance"
   ]
  },
  {
   "cell_type": "markdown",
   "id": "58e56174-96eb-4734-887a-59d2e9633ac3",
   "metadata": {},
   "source": [
    "The sample variance is equal to the sum of the squared deviations divided by the number of observations minus one. <br>\n",
    "We have to make separate calculations for each of these two parts."
   ]
  },
  {
   "cell_type": "code",
   "execution_count": 8,
   "id": "bc7d7a86-1aea-4017-89bc-20f9ebe41f5a",
   "metadata": {},
   "outputs": [
    {
     "name": "stdout",
     "output_type": "stream",
     "text": [
      "70664054444.44444\n"
     ]
    }
   ],
   "source": [
    "# sum of the squared deviations\n",
    "# since we need the sum of all squared deviations, we have to run (x - the mean)**2 for each value in the salaries list, then add the results\n",
    "SSD = sum((x - mean_no_stat) **2 for x in salaries)\n",
    "# number of observations - 1\n",
    "denominator = len(salaries) - 1\n",
    "\n",
    "# formula for sample variance\n",
    "variance_no_stat = SSD / denominator\n",
    "print(variance_no_stat)"
   ]
  },
  {
   "cell_type": "code",
   "execution_count": 9,
   "id": "e37dd8c9-408f-4a99-85b3-82ed428ada15",
   "metadata": {},
   "outputs": [
    {
     "data": {
      "text/plain": [
       "70664054444.44444"
      ]
     },
     "execution_count": 9,
     "metadata": {},
     "output_type": "execute_result"
    }
   ],
   "source": [
    "# check if output matches that of using statistics modules in the standard library\n",
    "from statistics import variance\n",
    "variance(salaries)"
   ]
  },
  {
   "cell_type": "markdown",
   "id": "173f518c-78ab-4ae7-b295-ff9d174782ca",
   "metadata": {},
   "source": [
    "#### * Sample standard deviation"
   ]
  },
  {
   "cell_type": "markdown",
   "id": "198acfab-bbee-443a-a0a9-de692b8c482b",
   "metadata": {},
   "source": [
    "the sample standard deviation is just the square root of the sample variance. So all that's needed here is to get the output of the computation for the sample variance and get the square root of it."
   ]
  },
  {
   "cell_type": "code",
   "execution_count": 10,
   "id": "155a3ef5-9727-4773-abbf-2f68de0c0b97",
   "metadata": {},
   "outputs": [
    {
     "name": "stdout",
     "output_type": "stream",
     "text": [
      "265827.11382484\n"
     ]
    }
   ],
   "source": [
    "import math\n",
    "print (math.sqrt(variance_no_stat))"
   ]
  },
  {
   "cell_type": "code",
   "execution_count": 11,
   "id": "ba16c59c-8512-4e6f-9647-efcab2bace08",
   "metadata": {},
   "outputs": [
    {
     "data": {
      "text/plain": [
       "265827.11382484"
      ]
     },
     "execution_count": 11,
     "metadata": {},
     "output_type": "execute_result"
    }
   ],
   "source": [
    "# check if output matches that of using statistics modules in the standard library\n",
    "from statistics import stdev\n",
    "stdev(salaries)"
   ]
  },
  {
   "cell_type": "markdown",
   "id": "c8c819c2-f634-493f-86eb-4fd1f8bdeef4",
   "metadata": {},
   "source": [
    "### Exercise 2"
   ]
  },
  {
   "cell_type": "markdown",
   "id": "4a34e4d0-51d0-4e74-a168-d6c32e0da691",
   "metadata": {},
   "source": [
    "Using the same data, calculate the following statistics using the functions in the statistics module where appropriate:"
   ]
  },
  {
   "cell_type": "markdown",
   "id": "169c1b43-b635-405d-89db-b611a59286d1",
   "metadata": {},
   "source": [
    "* Range"
   ]
  },
  {
   "cell_type": "markdown",
   "id": "4508d911-2e03-4900-a58e-46c00ed36a60",
   "metadata": {},
   "source": [
    "Range = highest value - lowest value <br>\n",
    "We need to get the highest and lowest values first <br>\n",
    "[Reference](https://stackoverflow.com/questions/32152233/getting-the-range-of-data-from-a-list-in-python)"
   ]
  },
  {
   "cell_type": "code",
   "execution_count": 12,
   "id": "cd69f609-576b-4d3e-a67f-9ef38d8c9c47",
   "metadata": {},
   "outputs": [
    {
     "name": "stdout",
     "output_type": "stream",
     "text": [
      "lowest value: 1000.0\n",
      "highest value: 996000.0\n",
      "995000.0\n"
     ]
    }
   ],
   "source": [
    "#function to get the highest and lowest values in the list\n",
    "def minmax(val_list):\n",
    "    min_val = min(val_list)\n",
    "    max_val = max(val_list)\n",
    "\n",
    "    return (min_val, max_val)\n",
    "low , _= minmax(salaries) # lowest value\n",
    "print(\"lowest value:\", low)\n",
    "\n",
    "_, high = minmax(salaries) # highest value\n",
    "print(\"highest value:\", high)\n",
    "\n",
    "#compute for range\n",
    "value_range = high - low\n",
    "print(value_range)"
   ]
  },
  {
   "cell_type": "markdown",
   "id": "aa532b7b-79c9-4dc3-a002-7ce0dc03cc87",
   "metadata": {},
   "source": [
    "* Coefficient of variation (CV)"
   ]
  },
  {
   "cell_type": "markdown",
   "id": "aadcf721-ccea-4a42-8c15-f599a07281e6",
   "metadata": {},
   "source": [
    "CV = population standard deviation / population mean"
   ]
  },
  {
   "cell_type": "code",
   "execution_count": 13,
   "id": "da199372-fa48-49e4-b33d-618a72b53e44",
   "metadata": {},
   "outputs": [],
   "source": [
    "from statistics import pstdev\n",
    "# compute for population standard deviation\n",
    "pop_std_dev = pstdev(salaries)"
   ]
  },
  {
   "cell_type": "code",
   "execution_count": 14,
   "id": "8b41edbb-6bac-41df-b06c-91b61d9fb62c",
   "metadata": {},
   "outputs": [
    {
     "name": "stdout",
     "output_type": "stream",
     "text": [
      "585690.0\n"
     ]
    }
   ],
   "source": [
    "print(mean_wstat)\n",
    "# this has been computed earlier, so let's just call that again"
   ]
  },
  {
   "cell_type": "code",
   "execution_count": 15,
   "id": "9acd20d6-c5eb-477e-b3dd-0d145b2e3054",
   "metadata": {},
   "outputs": [
    {
     "name": "stdout",
     "output_type": "stream",
     "text": [
      "0.4515949371\n"
     ]
    }
   ],
   "source": [
    "CV = pop_std_dev / mean_wstat\n",
    "print(round(CV,10))"
   ]
  },
  {
   "cell_type": "markdown",
   "id": "e99626d0-0581-45be-a64b-0bda8dfd9914",
   "metadata": {},
   "source": [
    "* interquartile range"
   ]
  },
  {
   "cell_type": "markdown",
   "id": "7a098210-2315-4432-aebb-fb15adae6b32",
   "metadata": {},
   "source": [
    "To find the interquartile range, we need to find the 1st and 3rd quartiles first"
   ]
  },
  {
   "cell_type": "code",
   "execution_count": 16,
   "id": "6b88fec0-5dac-406a-b8b5-e05f63decd9b",
   "metadata": {},
   "outputs": [
    {
     "name": "stdout",
     "output_type": "stream",
     "text": [
      "First Quartile: 400500.0\n",
      "Third Quartile: 822250.0\n",
      "Interquartile Range: 421750.0\n"
     ]
    }
   ],
   "source": [
    "from statistics import quantiles\n",
    "# this returns a list of the quartiles (n=4) for the salaries list\n",
    "q = quantiles(salaries, n=4)\n",
    "\n",
    "# extract the first and third quartiles\n",
    "quart_1 = q[0] # first quartile\n",
    "print(\"First Quartile:\",quart_1)\n",
    "\n",
    "quart_3 = q[2] # third quartile\n",
    "print(\"Third Quartile:\",quart_3)\n",
    "\n",
    "interquartile_r = quart_3 - quart_1\n",
    "print(\"Interquartile Range:\",interquartile_r)"
   ]
  },
  {
   "cell_type": "markdown",
   "id": "75377d35-56b1-443b-ac7f-bafe564a9f8e",
   "metadata": {},
   "source": [
    "* Quartile coefficient of dispersion"
   ]
  },
  {
   "cell_type": "markdown",
   "id": "f378f48d-018a-4b3d-9ad5-7859fda2a15e",
   "metadata": {},
   "source": [
    "[Reference](https://fastercapital.com/topics/calculating-quartile-coefficient-of-dispersion.html#:~:text=The%20Quartile%20Coefficient%20of%20Dispersion,size%20of%20the%20data%20set.)"
   ]
  },
  {
   "cell_type": "markdown",
   "id": "c09d1d12-4eab-49c1-a473-bda0add2c464",
   "metadata": {},
   "source": [
    "Basically, this is interquartile range / (quartile1 + quartile3) <br>\n",
    "We just computed the interquartile range. We only need to find the sum between the two quartiles."
   ]
  },
  {
   "cell_type": "code",
   "execution_count": 17,
   "id": "c3098cd2-8906-4572-9dc7-09c9ea4a69c2",
   "metadata": {},
   "outputs": [
    {
     "name": "stdout",
     "output_type": "stream",
     "text": [
      "QCD = 0.34491923942\n"
     ]
    }
   ],
   "source": [
    "sum_quarts = quart_3 + quart_1\n",
    "\n",
    "QCD = interquartile_r / sum_quarts\n",
    "print(\"QCD =\",round(QCD,11))"
   ]
  },
  {
   "cell_type": "markdown",
   "id": "86012618-2570-4283-a76b-a50e43268a40",
   "metadata": {},
   "source": [
    "### Exercise 3: Pandas for Data Analysis"
   ]
  },
  {
   "cell_type": "markdown",
   "id": "67948045-f549-462a-9cd6-d3af8ec94669",
   "metadata": {},
   "source": [
    "Load the diabetes.csv file. Convert the diabetes.csv file into dataframe."
   ]
  },
  {
   "cell_type": "code",
   "execution_count": 31,
   "id": "7819e81e-dcb5-4da9-b988-f63ce109e961",
   "metadata": {},
   "outputs": [],
   "source": [
    "import pandas as pd\n",
    "import numpy as np\n",
    "diabetes = pd.read_csv('Datasets/diabetes.csv')"
   ]
  },
  {
   "cell_type": "markdown",
   "id": "921abce0-ef88-46a1-b1a2-2523fae0fad0",
   "metadata": {},
   "source": [
    "Perform the following tasks in the diabetes dataframe:"
   ]
  },
  {
   "cell_type": "markdown",
   "id": "2594e72b-5fcb-4227-b218-652969fed1f8",
   "metadata": {},
   "source": [
    "1. Identify the column name"
   ]
  },
  {
   "cell_type": "code",
   "execution_count": 20,
   "id": "84fdef00-d686-4b93-ac7f-825efabb39e4",
   "metadata": {},
   "outputs": [
    {
     "data": {
      "text/plain": [
       "Index(['Pregnancies', 'Glucose', 'BloodPressure', 'SkinThickness', 'Insulin',\n",
       "       'BMI', 'DiabetesPedigreeFunction', 'Age', 'Outcome'],\n",
       "      dtype='object')"
      ]
     },
     "execution_count": 20,
     "metadata": {},
     "output_type": "execute_result"
    }
   ],
   "source": [
    "diabetes.columns"
   ]
  },
  {
   "cell_type": "markdown",
   "id": "4400cd13-bd6c-4193-8f33-4e38e0338a66",
   "metadata": {},
   "source": [
    "2. Identify the data types of the data."
   ]
  },
  {
   "cell_type": "code",
   "execution_count": 21,
   "id": "e9e2e93e-0353-4d53-a9a2-958441b15435",
   "metadata": {},
   "outputs": [
    {
     "data": {
      "text/plain": [
       "Pregnancies                   int64\n",
       "Glucose                       int64\n",
       "BloodPressure                 int64\n",
       "SkinThickness                 int64\n",
       "Insulin                       int64\n",
       "BMI                         float64\n",
       "DiabetesPedigreeFunction    float64\n",
       "Age                           int64\n",
       "Outcome                       int64\n",
       "dtype: object"
      ]
     },
     "execution_count": 21,
     "metadata": {},
     "output_type": "execute_result"
    }
   ],
   "source": [
    "diabetes.dtypes"
   ]
  },
  {
   "cell_type": "markdown",
   "id": "b7689121-2e7f-43cb-9710-e9918df18913",
   "metadata": {},
   "source": [
    "3. Display the total number of records."
   ]
  },
  {
   "cell_type": "code",
   "execution_count": 22,
   "id": "c7a8c684-400f-4ca5-8a70-acc5d5689f57",
   "metadata": {},
   "outputs": [
    {
     "data": {
      "text/plain": [
       "Pregnancies                 768\n",
       "Glucose                     768\n",
       "BloodPressure               768\n",
       "SkinThickness               768\n",
       "Insulin                     768\n",
       "BMI                         768\n",
       "DiabetesPedigreeFunction    768\n",
       "Age                         768\n",
       "Outcome                     768\n",
       "dtype: int64"
      ]
     },
     "execution_count": 22,
     "metadata": {},
     "output_type": "execute_result"
    }
   ],
   "source": [
    "diabetes.count()"
   ]
  },
  {
   "cell_type": "markdown",
   "id": "2d798f2b-9987-48af-b9ee-b271e9ca5808",
   "metadata": {},
   "source": [
    "4. Display the first 20 records"
   ]
  },
  {
   "cell_type": "code",
   "execution_count": 23,
   "id": "c820b0ef-a3c1-4018-92bb-ac8834c1e243",
   "metadata": {},
   "outputs": [
    {
     "data": {
      "text/html": [
       "<div>\n",
       "<style scoped>\n",
       "    .dataframe tbody tr th:only-of-type {\n",
       "        vertical-align: middle;\n",
       "    }\n",
       "\n",
       "    .dataframe tbody tr th {\n",
       "        vertical-align: top;\n",
       "    }\n",
       "\n",
       "    .dataframe thead th {\n",
       "        text-align: right;\n",
       "    }\n",
       "</style>\n",
       "<table border=\"1\" class=\"dataframe\">\n",
       "  <thead>\n",
       "    <tr style=\"text-align: right;\">\n",
       "      <th></th>\n",
       "      <th>Pregnancies</th>\n",
       "      <th>Glucose</th>\n",
       "      <th>BloodPressure</th>\n",
       "      <th>SkinThickness</th>\n",
       "      <th>Insulin</th>\n",
       "      <th>BMI</th>\n",
       "      <th>DiabetesPedigreeFunction</th>\n",
       "      <th>Age</th>\n",
       "      <th>Outcome</th>\n",
       "    </tr>\n",
       "  </thead>\n",
       "  <tbody>\n",
       "    <tr>\n",
       "      <th>0</th>\n",
       "      <td>6</td>\n",
       "      <td>148</td>\n",
       "      <td>72</td>\n",
       "      <td>35</td>\n",
       "      <td>0</td>\n",
       "      <td>33.6</td>\n",
       "      <td>0.627</td>\n",
       "      <td>50</td>\n",
       "      <td>1</td>\n",
       "    </tr>\n",
       "    <tr>\n",
       "      <th>1</th>\n",
       "      <td>1</td>\n",
       "      <td>85</td>\n",
       "      <td>66</td>\n",
       "      <td>29</td>\n",
       "      <td>0</td>\n",
       "      <td>26.6</td>\n",
       "      <td>0.351</td>\n",
       "      <td>31</td>\n",
       "      <td>0</td>\n",
       "    </tr>\n",
       "    <tr>\n",
       "      <th>2</th>\n",
       "      <td>8</td>\n",
       "      <td>183</td>\n",
       "      <td>64</td>\n",
       "      <td>0</td>\n",
       "      <td>0</td>\n",
       "      <td>23.3</td>\n",
       "      <td>0.672</td>\n",
       "      <td>32</td>\n",
       "      <td>1</td>\n",
       "    </tr>\n",
       "    <tr>\n",
       "      <th>3</th>\n",
       "      <td>1</td>\n",
       "      <td>89</td>\n",
       "      <td>66</td>\n",
       "      <td>23</td>\n",
       "      <td>94</td>\n",
       "      <td>28.1</td>\n",
       "      <td>0.167</td>\n",
       "      <td>21</td>\n",
       "      <td>0</td>\n",
       "    </tr>\n",
       "    <tr>\n",
       "      <th>4</th>\n",
       "      <td>0</td>\n",
       "      <td>137</td>\n",
       "      <td>40</td>\n",
       "      <td>35</td>\n",
       "      <td>168</td>\n",
       "      <td>43.1</td>\n",
       "      <td>2.288</td>\n",
       "      <td>33</td>\n",
       "      <td>1</td>\n",
       "    </tr>\n",
       "    <tr>\n",
       "      <th>5</th>\n",
       "      <td>5</td>\n",
       "      <td>116</td>\n",
       "      <td>74</td>\n",
       "      <td>0</td>\n",
       "      <td>0</td>\n",
       "      <td>25.6</td>\n",
       "      <td>0.201</td>\n",
       "      <td>30</td>\n",
       "      <td>0</td>\n",
       "    </tr>\n",
       "    <tr>\n",
       "      <th>6</th>\n",
       "      <td>3</td>\n",
       "      <td>78</td>\n",
       "      <td>50</td>\n",
       "      <td>32</td>\n",
       "      <td>88</td>\n",
       "      <td>31.0</td>\n",
       "      <td>0.248</td>\n",
       "      <td>26</td>\n",
       "      <td>1</td>\n",
       "    </tr>\n",
       "    <tr>\n",
       "      <th>7</th>\n",
       "      <td>10</td>\n",
       "      <td>115</td>\n",
       "      <td>0</td>\n",
       "      <td>0</td>\n",
       "      <td>0</td>\n",
       "      <td>35.3</td>\n",
       "      <td>0.134</td>\n",
       "      <td>29</td>\n",
       "      <td>0</td>\n",
       "    </tr>\n",
       "    <tr>\n",
       "      <th>8</th>\n",
       "      <td>2</td>\n",
       "      <td>197</td>\n",
       "      <td>70</td>\n",
       "      <td>45</td>\n",
       "      <td>543</td>\n",
       "      <td>30.5</td>\n",
       "      <td>0.158</td>\n",
       "      <td>53</td>\n",
       "      <td>1</td>\n",
       "    </tr>\n",
       "    <tr>\n",
       "      <th>9</th>\n",
       "      <td>8</td>\n",
       "      <td>125</td>\n",
       "      <td>96</td>\n",
       "      <td>0</td>\n",
       "      <td>0</td>\n",
       "      <td>0.0</td>\n",
       "      <td>0.232</td>\n",
       "      <td>54</td>\n",
       "      <td>1</td>\n",
       "    </tr>\n",
       "    <tr>\n",
       "      <th>10</th>\n",
       "      <td>4</td>\n",
       "      <td>110</td>\n",
       "      <td>92</td>\n",
       "      <td>0</td>\n",
       "      <td>0</td>\n",
       "      <td>37.6</td>\n",
       "      <td>0.191</td>\n",
       "      <td>30</td>\n",
       "      <td>0</td>\n",
       "    </tr>\n",
       "    <tr>\n",
       "      <th>11</th>\n",
       "      <td>10</td>\n",
       "      <td>168</td>\n",
       "      <td>74</td>\n",
       "      <td>0</td>\n",
       "      <td>0</td>\n",
       "      <td>38.0</td>\n",
       "      <td>0.537</td>\n",
       "      <td>34</td>\n",
       "      <td>1</td>\n",
       "    </tr>\n",
       "    <tr>\n",
       "      <th>12</th>\n",
       "      <td>10</td>\n",
       "      <td>139</td>\n",
       "      <td>80</td>\n",
       "      <td>0</td>\n",
       "      <td>0</td>\n",
       "      <td>27.1</td>\n",
       "      <td>1.441</td>\n",
       "      <td>57</td>\n",
       "      <td>0</td>\n",
       "    </tr>\n",
       "    <tr>\n",
       "      <th>13</th>\n",
       "      <td>1</td>\n",
       "      <td>189</td>\n",
       "      <td>60</td>\n",
       "      <td>23</td>\n",
       "      <td>846</td>\n",
       "      <td>30.1</td>\n",
       "      <td>0.398</td>\n",
       "      <td>59</td>\n",
       "      <td>1</td>\n",
       "    </tr>\n",
       "    <tr>\n",
       "      <th>14</th>\n",
       "      <td>5</td>\n",
       "      <td>166</td>\n",
       "      <td>72</td>\n",
       "      <td>19</td>\n",
       "      <td>175</td>\n",
       "      <td>25.8</td>\n",
       "      <td>0.587</td>\n",
       "      <td>51</td>\n",
       "      <td>1</td>\n",
       "    </tr>\n",
       "    <tr>\n",
       "      <th>15</th>\n",
       "      <td>7</td>\n",
       "      <td>100</td>\n",
       "      <td>0</td>\n",
       "      <td>0</td>\n",
       "      <td>0</td>\n",
       "      <td>30.0</td>\n",
       "      <td>0.484</td>\n",
       "      <td>32</td>\n",
       "      <td>1</td>\n",
       "    </tr>\n",
       "    <tr>\n",
       "      <th>16</th>\n",
       "      <td>0</td>\n",
       "      <td>118</td>\n",
       "      <td>84</td>\n",
       "      <td>47</td>\n",
       "      <td>230</td>\n",
       "      <td>45.8</td>\n",
       "      <td>0.551</td>\n",
       "      <td>31</td>\n",
       "      <td>1</td>\n",
       "    </tr>\n",
       "    <tr>\n",
       "      <th>17</th>\n",
       "      <td>7</td>\n",
       "      <td>107</td>\n",
       "      <td>74</td>\n",
       "      <td>0</td>\n",
       "      <td>0</td>\n",
       "      <td>29.6</td>\n",
       "      <td>0.254</td>\n",
       "      <td>31</td>\n",
       "      <td>1</td>\n",
       "    </tr>\n",
       "    <tr>\n",
       "      <th>18</th>\n",
       "      <td>1</td>\n",
       "      <td>103</td>\n",
       "      <td>30</td>\n",
       "      <td>38</td>\n",
       "      <td>83</td>\n",
       "      <td>43.3</td>\n",
       "      <td>0.183</td>\n",
       "      <td>33</td>\n",
       "      <td>0</td>\n",
       "    </tr>\n",
       "    <tr>\n",
       "      <th>19</th>\n",
       "      <td>1</td>\n",
       "      <td>115</td>\n",
       "      <td>70</td>\n",
       "      <td>30</td>\n",
       "      <td>96</td>\n",
       "      <td>34.6</td>\n",
       "      <td>0.529</td>\n",
       "      <td>32</td>\n",
       "      <td>1</td>\n",
       "    </tr>\n",
       "  </tbody>\n",
       "</table>\n",
       "</div>"
      ],
      "text/plain": [
       "    Pregnancies  Glucose  BloodPressure  SkinThickness  Insulin   BMI  \\\n",
       "0             6      148             72             35        0  33.6   \n",
       "1             1       85             66             29        0  26.6   \n",
       "2             8      183             64              0        0  23.3   \n",
       "3             1       89             66             23       94  28.1   \n",
       "4             0      137             40             35      168  43.1   \n",
       "5             5      116             74              0        0  25.6   \n",
       "6             3       78             50             32       88  31.0   \n",
       "7            10      115              0              0        0  35.3   \n",
       "8             2      197             70             45      543  30.5   \n",
       "9             8      125             96              0        0   0.0   \n",
       "10            4      110             92              0        0  37.6   \n",
       "11           10      168             74              0        0  38.0   \n",
       "12           10      139             80              0        0  27.1   \n",
       "13            1      189             60             23      846  30.1   \n",
       "14            5      166             72             19      175  25.8   \n",
       "15            7      100              0              0        0  30.0   \n",
       "16            0      118             84             47      230  45.8   \n",
       "17            7      107             74              0        0  29.6   \n",
       "18            1      103             30             38       83  43.3   \n",
       "19            1      115             70             30       96  34.6   \n",
       "\n",
       "    DiabetesPedigreeFunction  Age  Outcome  \n",
       "0                      0.627   50        1  \n",
       "1                      0.351   31        0  \n",
       "2                      0.672   32        1  \n",
       "3                      0.167   21        0  \n",
       "4                      2.288   33        1  \n",
       "5                      0.201   30        0  \n",
       "6                      0.248   26        1  \n",
       "7                      0.134   29        0  \n",
       "8                      0.158   53        1  \n",
       "9                      0.232   54        1  \n",
       "10                     0.191   30        0  \n",
       "11                     0.537   34        1  \n",
       "12                     1.441   57        0  \n",
       "13                     0.398   59        1  \n",
       "14                     0.587   51        1  \n",
       "15                     0.484   32        1  \n",
       "16                     0.551   31        1  \n",
       "17                     0.254   31        1  \n",
       "18                     0.183   33        0  \n",
       "19                     0.529   32        1  "
      ]
     },
     "execution_count": 23,
     "metadata": {},
     "output_type": "execute_result"
    }
   ],
   "source": [
    "diabetes.head(20)"
   ]
  },
  {
   "cell_type": "markdown",
   "id": "487a9bcf-b524-4eb2-9978-e68ebbbaec5b",
   "metadata": {},
   "source": [
    "5. Display the last 20 records"
   ]
  },
  {
   "cell_type": "code",
   "execution_count": 24,
   "id": "20d665c4-e8d5-48c2-803b-874d704485fd",
   "metadata": {},
   "outputs": [
    {
     "data": {
      "text/html": [
       "<div>\n",
       "<style scoped>\n",
       "    .dataframe tbody tr th:only-of-type {\n",
       "        vertical-align: middle;\n",
       "    }\n",
       "\n",
       "    .dataframe tbody tr th {\n",
       "        vertical-align: top;\n",
       "    }\n",
       "\n",
       "    .dataframe thead th {\n",
       "        text-align: right;\n",
       "    }\n",
       "</style>\n",
       "<table border=\"1\" class=\"dataframe\">\n",
       "  <thead>\n",
       "    <tr style=\"text-align: right;\">\n",
       "      <th></th>\n",
       "      <th>Pregnancies</th>\n",
       "      <th>Glucose</th>\n",
       "      <th>BloodPressure</th>\n",
       "      <th>SkinThickness</th>\n",
       "      <th>Insulin</th>\n",
       "      <th>BMI</th>\n",
       "      <th>DiabetesPedigreeFunction</th>\n",
       "      <th>Age</th>\n",
       "      <th>Outcome</th>\n",
       "    </tr>\n",
       "  </thead>\n",
       "  <tbody>\n",
       "    <tr>\n",
       "      <th>748</th>\n",
       "      <td>3</td>\n",
       "      <td>187</td>\n",
       "      <td>70</td>\n",
       "      <td>22</td>\n",
       "      <td>200</td>\n",
       "      <td>36.4</td>\n",
       "      <td>0.408</td>\n",
       "      <td>36</td>\n",
       "      <td>1</td>\n",
       "    </tr>\n",
       "    <tr>\n",
       "      <th>749</th>\n",
       "      <td>6</td>\n",
       "      <td>162</td>\n",
       "      <td>62</td>\n",
       "      <td>0</td>\n",
       "      <td>0</td>\n",
       "      <td>24.3</td>\n",
       "      <td>0.178</td>\n",
       "      <td>50</td>\n",
       "      <td>1</td>\n",
       "    </tr>\n",
       "    <tr>\n",
       "      <th>750</th>\n",
       "      <td>4</td>\n",
       "      <td>136</td>\n",
       "      <td>70</td>\n",
       "      <td>0</td>\n",
       "      <td>0</td>\n",
       "      <td>31.2</td>\n",
       "      <td>1.182</td>\n",
       "      <td>22</td>\n",
       "      <td>1</td>\n",
       "    </tr>\n",
       "    <tr>\n",
       "      <th>751</th>\n",
       "      <td>1</td>\n",
       "      <td>121</td>\n",
       "      <td>78</td>\n",
       "      <td>39</td>\n",
       "      <td>74</td>\n",
       "      <td>39.0</td>\n",
       "      <td>0.261</td>\n",
       "      <td>28</td>\n",
       "      <td>0</td>\n",
       "    </tr>\n",
       "    <tr>\n",
       "      <th>752</th>\n",
       "      <td>3</td>\n",
       "      <td>108</td>\n",
       "      <td>62</td>\n",
       "      <td>24</td>\n",
       "      <td>0</td>\n",
       "      <td>26.0</td>\n",
       "      <td>0.223</td>\n",
       "      <td>25</td>\n",
       "      <td>0</td>\n",
       "    </tr>\n",
       "    <tr>\n",
       "      <th>753</th>\n",
       "      <td>0</td>\n",
       "      <td>181</td>\n",
       "      <td>88</td>\n",
       "      <td>44</td>\n",
       "      <td>510</td>\n",
       "      <td>43.3</td>\n",
       "      <td>0.222</td>\n",
       "      <td>26</td>\n",
       "      <td>1</td>\n",
       "    </tr>\n",
       "    <tr>\n",
       "      <th>754</th>\n",
       "      <td>8</td>\n",
       "      <td>154</td>\n",
       "      <td>78</td>\n",
       "      <td>32</td>\n",
       "      <td>0</td>\n",
       "      <td>32.4</td>\n",
       "      <td>0.443</td>\n",
       "      <td>45</td>\n",
       "      <td>1</td>\n",
       "    </tr>\n",
       "    <tr>\n",
       "      <th>755</th>\n",
       "      <td>1</td>\n",
       "      <td>128</td>\n",
       "      <td>88</td>\n",
       "      <td>39</td>\n",
       "      <td>110</td>\n",
       "      <td>36.5</td>\n",
       "      <td>1.057</td>\n",
       "      <td>37</td>\n",
       "      <td>1</td>\n",
       "    </tr>\n",
       "    <tr>\n",
       "      <th>756</th>\n",
       "      <td>7</td>\n",
       "      <td>137</td>\n",
       "      <td>90</td>\n",
       "      <td>41</td>\n",
       "      <td>0</td>\n",
       "      <td>32.0</td>\n",
       "      <td>0.391</td>\n",
       "      <td>39</td>\n",
       "      <td>0</td>\n",
       "    </tr>\n",
       "    <tr>\n",
       "      <th>757</th>\n",
       "      <td>0</td>\n",
       "      <td>123</td>\n",
       "      <td>72</td>\n",
       "      <td>0</td>\n",
       "      <td>0</td>\n",
       "      <td>36.3</td>\n",
       "      <td>0.258</td>\n",
       "      <td>52</td>\n",
       "      <td>1</td>\n",
       "    </tr>\n",
       "    <tr>\n",
       "      <th>758</th>\n",
       "      <td>1</td>\n",
       "      <td>106</td>\n",
       "      <td>76</td>\n",
       "      <td>0</td>\n",
       "      <td>0</td>\n",
       "      <td>37.5</td>\n",
       "      <td>0.197</td>\n",
       "      <td>26</td>\n",
       "      <td>0</td>\n",
       "    </tr>\n",
       "    <tr>\n",
       "      <th>759</th>\n",
       "      <td>6</td>\n",
       "      <td>190</td>\n",
       "      <td>92</td>\n",
       "      <td>0</td>\n",
       "      <td>0</td>\n",
       "      <td>35.5</td>\n",
       "      <td>0.278</td>\n",
       "      <td>66</td>\n",
       "      <td>1</td>\n",
       "    </tr>\n",
       "    <tr>\n",
       "      <th>760</th>\n",
       "      <td>2</td>\n",
       "      <td>88</td>\n",
       "      <td>58</td>\n",
       "      <td>26</td>\n",
       "      <td>16</td>\n",
       "      <td>28.4</td>\n",
       "      <td>0.766</td>\n",
       "      <td>22</td>\n",
       "      <td>0</td>\n",
       "    </tr>\n",
       "    <tr>\n",
       "      <th>761</th>\n",
       "      <td>9</td>\n",
       "      <td>170</td>\n",
       "      <td>74</td>\n",
       "      <td>31</td>\n",
       "      <td>0</td>\n",
       "      <td>44.0</td>\n",
       "      <td>0.403</td>\n",
       "      <td>43</td>\n",
       "      <td>1</td>\n",
       "    </tr>\n",
       "    <tr>\n",
       "      <th>762</th>\n",
       "      <td>9</td>\n",
       "      <td>89</td>\n",
       "      <td>62</td>\n",
       "      <td>0</td>\n",
       "      <td>0</td>\n",
       "      <td>22.5</td>\n",
       "      <td>0.142</td>\n",
       "      <td>33</td>\n",
       "      <td>0</td>\n",
       "    </tr>\n",
       "    <tr>\n",
       "      <th>763</th>\n",
       "      <td>10</td>\n",
       "      <td>101</td>\n",
       "      <td>76</td>\n",
       "      <td>48</td>\n",
       "      <td>180</td>\n",
       "      <td>32.9</td>\n",
       "      <td>0.171</td>\n",
       "      <td>63</td>\n",
       "      <td>0</td>\n",
       "    </tr>\n",
       "    <tr>\n",
       "      <th>764</th>\n",
       "      <td>2</td>\n",
       "      <td>122</td>\n",
       "      <td>70</td>\n",
       "      <td>27</td>\n",
       "      <td>0</td>\n",
       "      <td>36.8</td>\n",
       "      <td>0.340</td>\n",
       "      <td>27</td>\n",
       "      <td>0</td>\n",
       "    </tr>\n",
       "    <tr>\n",
       "      <th>765</th>\n",
       "      <td>5</td>\n",
       "      <td>121</td>\n",
       "      <td>72</td>\n",
       "      <td>23</td>\n",
       "      <td>112</td>\n",
       "      <td>26.2</td>\n",
       "      <td>0.245</td>\n",
       "      <td>30</td>\n",
       "      <td>0</td>\n",
       "    </tr>\n",
       "    <tr>\n",
       "      <th>766</th>\n",
       "      <td>1</td>\n",
       "      <td>126</td>\n",
       "      <td>60</td>\n",
       "      <td>0</td>\n",
       "      <td>0</td>\n",
       "      <td>30.1</td>\n",
       "      <td>0.349</td>\n",
       "      <td>47</td>\n",
       "      <td>1</td>\n",
       "    </tr>\n",
       "    <tr>\n",
       "      <th>767</th>\n",
       "      <td>1</td>\n",
       "      <td>93</td>\n",
       "      <td>70</td>\n",
       "      <td>31</td>\n",
       "      <td>0</td>\n",
       "      <td>30.4</td>\n",
       "      <td>0.315</td>\n",
       "      <td>23</td>\n",
       "      <td>0</td>\n",
       "    </tr>\n",
       "  </tbody>\n",
       "</table>\n",
       "</div>"
      ],
      "text/plain": [
       "     Pregnancies  Glucose  BloodPressure  SkinThickness  Insulin   BMI  \\\n",
       "748            3      187             70             22      200  36.4   \n",
       "749            6      162             62              0        0  24.3   \n",
       "750            4      136             70              0        0  31.2   \n",
       "751            1      121             78             39       74  39.0   \n",
       "752            3      108             62             24        0  26.0   \n",
       "753            0      181             88             44      510  43.3   \n",
       "754            8      154             78             32        0  32.4   \n",
       "755            1      128             88             39      110  36.5   \n",
       "756            7      137             90             41        0  32.0   \n",
       "757            0      123             72              0        0  36.3   \n",
       "758            1      106             76              0        0  37.5   \n",
       "759            6      190             92              0        0  35.5   \n",
       "760            2       88             58             26       16  28.4   \n",
       "761            9      170             74             31        0  44.0   \n",
       "762            9       89             62              0        0  22.5   \n",
       "763           10      101             76             48      180  32.9   \n",
       "764            2      122             70             27        0  36.8   \n",
       "765            5      121             72             23      112  26.2   \n",
       "766            1      126             60              0        0  30.1   \n",
       "767            1       93             70             31        0  30.4   \n",
       "\n",
       "     DiabetesPedigreeFunction  Age  Outcome  \n",
       "748                     0.408   36        1  \n",
       "749                     0.178   50        1  \n",
       "750                     1.182   22        1  \n",
       "751                     0.261   28        0  \n",
       "752                     0.223   25        0  \n",
       "753                     0.222   26        1  \n",
       "754                     0.443   45        1  \n",
       "755                     1.057   37        1  \n",
       "756                     0.391   39        0  \n",
       "757                     0.258   52        1  \n",
       "758                     0.197   26        0  \n",
       "759                     0.278   66        1  \n",
       "760                     0.766   22        0  \n",
       "761                     0.403   43        1  \n",
       "762                     0.142   33        0  \n",
       "763                     0.171   63        0  \n",
       "764                     0.340   27        0  \n",
       "765                     0.245   30        0  \n",
       "766                     0.349   47        1  \n",
       "767                     0.315   23        0  "
      ]
     },
     "execution_count": 24,
     "metadata": {},
     "output_type": "execute_result"
    }
   ],
   "source": [
    "diabetes.tail(20)"
   ]
  },
  {
   "cell_type": "markdown",
   "id": "24b8dc89-38a6-4e7f-9041-0de6ea8bdc0d",
   "metadata": {},
   "source": [
    "6. Change the Outcome column to Diagnosis."
   ]
  },
  {
   "cell_type": "code",
   "execution_count": 34,
   "id": "0f1cc90d-1cee-4887-a0a2-ff03c841fb41",
   "metadata": {},
   "outputs": [],
   "source": [
    "diabetes = diabetes.rename(columns = {'Outcome':'Diagnosis'})"
   ]
  },
  {
   "cell_type": "code",
   "execution_count": 35,
   "id": "6cc5609b-6cff-4da7-8a3f-61576e41b1ed",
   "metadata": {},
   "outputs": [
    {
     "data": {
      "text/html": [
       "<div>\n",
       "<style scoped>\n",
       "    .dataframe tbody tr th:only-of-type {\n",
       "        vertical-align: middle;\n",
       "    }\n",
       "\n",
       "    .dataframe tbody tr th {\n",
       "        vertical-align: top;\n",
       "    }\n",
       "\n",
       "    .dataframe thead th {\n",
       "        text-align: right;\n",
       "    }\n",
       "</style>\n",
       "<table border=\"1\" class=\"dataframe\">\n",
       "  <thead>\n",
       "    <tr style=\"text-align: right;\">\n",
       "      <th></th>\n",
       "      <th>Pregnancies</th>\n",
       "      <th>Glucose</th>\n",
       "      <th>BloodPressure</th>\n",
       "      <th>SkinThickness</th>\n",
       "      <th>Insulin</th>\n",
       "      <th>BMI</th>\n",
       "      <th>DiabetesPedigreeFunction</th>\n",
       "      <th>Age</th>\n",
       "      <th>Diagnosis</th>\n",
       "    </tr>\n",
       "  </thead>\n",
       "  <tbody>\n",
       "    <tr>\n",
       "      <th>0</th>\n",
       "      <td>6</td>\n",
       "      <td>148</td>\n",
       "      <td>72</td>\n",
       "      <td>35</td>\n",
       "      <td>0</td>\n",
       "      <td>33.6</td>\n",
       "      <td>0.627</td>\n",
       "      <td>50</td>\n",
       "      <td>1</td>\n",
       "    </tr>\n",
       "    <tr>\n",
       "      <th>1</th>\n",
       "      <td>1</td>\n",
       "      <td>85</td>\n",
       "      <td>66</td>\n",
       "      <td>29</td>\n",
       "      <td>0</td>\n",
       "      <td>26.6</td>\n",
       "      <td>0.351</td>\n",
       "      <td>31</td>\n",
       "      <td>0</td>\n",
       "    </tr>\n",
       "    <tr>\n",
       "      <th>2</th>\n",
       "      <td>8</td>\n",
       "      <td>183</td>\n",
       "      <td>64</td>\n",
       "      <td>0</td>\n",
       "      <td>0</td>\n",
       "      <td>23.3</td>\n",
       "      <td>0.672</td>\n",
       "      <td>32</td>\n",
       "      <td>1</td>\n",
       "    </tr>\n",
       "    <tr>\n",
       "      <th>3</th>\n",
       "      <td>1</td>\n",
       "      <td>89</td>\n",
       "      <td>66</td>\n",
       "      <td>23</td>\n",
       "      <td>94</td>\n",
       "      <td>28.1</td>\n",
       "      <td>0.167</td>\n",
       "      <td>21</td>\n",
       "      <td>0</td>\n",
       "    </tr>\n",
       "    <tr>\n",
       "      <th>4</th>\n",
       "      <td>0</td>\n",
       "      <td>137</td>\n",
       "      <td>40</td>\n",
       "      <td>35</td>\n",
       "      <td>168</td>\n",
       "      <td>43.1</td>\n",
       "      <td>2.288</td>\n",
       "      <td>33</td>\n",
       "      <td>1</td>\n",
       "    </tr>\n",
       "  </tbody>\n",
       "</table>\n",
       "</div>"
      ],
      "text/plain": [
       "   Pregnancies  Glucose  BloodPressure  SkinThickness  Insulin   BMI  \\\n",
       "0            6      148             72             35        0  33.6   \n",
       "1            1       85             66             29        0  26.6   \n",
       "2            8      183             64              0        0  23.3   \n",
       "3            1       89             66             23       94  28.1   \n",
       "4            0      137             40             35      168  43.1   \n",
       "\n",
       "   DiabetesPedigreeFunction  Age  Diagnosis  \n",
       "0                     0.627   50          1  \n",
       "1                     0.351   31          0  \n",
       "2                     0.672   32          1  \n",
       "3                     0.167   21          0  \n",
       "4                     2.288   33          1  "
      ]
     },
     "execution_count": 35,
     "metadata": {},
     "output_type": "execute_result"
    }
   ],
   "source": [
    "diabetes.head()"
   ]
  },
  {
   "cell_type": "markdown",
   "id": "1faeeb25-920f-4194-932d-e87144ca32e3",
   "metadata": {},
   "source": [
    "7. Create a new column Classification that display \"Diabetes\" if the value of outcome is 1, otherwise \"No Diabetes\"."
   ]
  },
  {
   "cell_type": "code",
   "execution_count": 37,
   "id": "2963f50b-a81e-48de-8905-ffdbf40cec3d",
   "metadata": {},
   "outputs": [
    {
     "data": {
      "text/plain": [
       "Diagnosis\n",
       "0    500\n",
       "1    268\n",
       "Name: count, dtype: int64"
      ]
     },
     "execution_count": 37,
     "metadata": {},
     "output_type": "execute_result"
    }
   ],
   "source": [
    "diabetes['Diagnosis'].value_counts()"
   ]
  },
  {
   "cell_type": "code",
   "execution_count": 39,
   "id": "589fe374-846e-45a9-84be-684308e67a6f",
   "metadata": {},
   "outputs": [
    {
     "data": {
      "text/html": [
       "<div>\n",
       "<style scoped>\n",
       "    .dataframe tbody tr th:only-of-type {\n",
       "        vertical-align: middle;\n",
       "    }\n",
       "\n",
       "    .dataframe tbody tr th {\n",
       "        vertical-align: top;\n",
       "    }\n",
       "\n",
       "    .dataframe thead th {\n",
       "        text-align: right;\n",
       "    }\n",
       "</style>\n",
       "<table border=\"1\" class=\"dataframe\">\n",
       "  <thead>\n",
       "    <tr style=\"text-align: right;\">\n",
       "      <th></th>\n",
       "      <th>Pregnancies</th>\n",
       "      <th>Glucose</th>\n",
       "      <th>BloodPressure</th>\n",
       "      <th>SkinThickness</th>\n",
       "      <th>Insulin</th>\n",
       "      <th>BMI</th>\n",
       "      <th>DiabetesPedigreeFunction</th>\n",
       "      <th>Age</th>\n",
       "      <th>Diagnosis</th>\n",
       "      <th>Classification</th>\n",
       "    </tr>\n",
       "  </thead>\n",
       "  <tbody>\n",
       "    <tr>\n",
       "      <th>0</th>\n",
       "      <td>6</td>\n",
       "      <td>148</td>\n",
       "      <td>72</td>\n",
       "      <td>35</td>\n",
       "      <td>0</td>\n",
       "      <td>33.6</td>\n",
       "      <td>0.627</td>\n",
       "      <td>50</td>\n",
       "      <td>1</td>\n",
       "      <td>Diabetes</td>\n",
       "    </tr>\n",
       "    <tr>\n",
       "      <th>1</th>\n",
       "      <td>1</td>\n",
       "      <td>85</td>\n",
       "      <td>66</td>\n",
       "      <td>29</td>\n",
       "      <td>0</td>\n",
       "      <td>26.6</td>\n",
       "      <td>0.351</td>\n",
       "      <td>31</td>\n",
       "      <td>0</td>\n",
       "      <td>No Diabetes</td>\n",
       "    </tr>\n",
       "    <tr>\n",
       "      <th>2</th>\n",
       "      <td>8</td>\n",
       "      <td>183</td>\n",
       "      <td>64</td>\n",
       "      <td>0</td>\n",
       "      <td>0</td>\n",
       "      <td>23.3</td>\n",
       "      <td>0.672</td>\n",
       "      <td>32</td>\n",
       "      <td>1</td>\n",
       "      <td>Diabetes</td>\n",
       "    </tr>\n",
       "    <tr>\n",
       "      <th>3</th>\n",
       "      <td>1</td>\n",
       "      <td>89</td>\n",
       "      <td>66</td>\n",
       "      <td>23</td>\n",
       "      <td>94</td>\n",
       "      <td>28.1</td>\n",
       "      <td>0.167</td>\n",
       "      <td>21</td>\n",
       "      <td>0</td>\n",
       "      <td>No Diabetes</td>\n",
       "    </tr>\n",
       "    <tr>\n",
       "      <th>4</th>\n",
       "      <td>0</td>\n",
       "      <td>137</td>\n",
       "      <td>40</td>\n",
       "      <td>35</td>\n",
       "      <td>168</td>\n",
       "      <td>43.1</td>\n",
       "      <td>2.288</td>\n",
       "      <td>33</td>\n",
       "      <td>1</td>\n",
       "      <td>Diabetes</td>\n",
       "    </tr>\n",
       "  </tbody>\n",
       "</table>\n",
       "</div>"
      ],
      "text/plain": [
       "   Pregnancies  Glucose  BloodPressure  SkinThickness  Insulin   BMI  \\\n",
       "0            6      148             72             35        0  33.6   \n",
       "1            1       85             66             29        0  26.6   \n",
       "2            8      183             64              0        0  23.3   \n",
       "3            1       89             66             23       94  28.1   \n",
       "4            0      137             40             35      168  43.1   \n",
       "\n",
       "   DiabetesPedigreeFunction  Age  Diagnosis Classification  \n",
       "0                     0.627   50          1       Diabetes  \n",
       "1                     0.351   31          0    No Diabetes  \n",
       "2                     0.672   32          1       Diabetes  \n",
       "3                     0.167   21          0    No Diabetes  \n",
       "4                     2.288   33          1       Diabetes  "
      ]
     },
     "execution_count": 39,
     "metadata": {},
     "output_type": "execute_result"
    }
   ],
   "source": [
    "diabetes['Classification'] = diabetes['Diagnosis'].apply(lambda x: 'Diabetes' if x == 1 else 'No Diabetes')\n",
    "diabetes.head()"
   ]
  },
  {
   "cell_type": "markdown",
   "id": "039fed25-63d9-483a-b449-8e3ef4ba9e9e",
   "metadata": {},
   "source": [
    "8. Create a new dataframe \"withDiabetes\" that gathers data with diabetes"
   ]
  },
  {
   "cell_type": "code",
   "execution_count": 43,
   "id": "0048116e-2c0b-4ef1-809a-9992e030770a",
   "metadata": {},
   "outputs": [
    {
     "data": {
      "text/html": [
       "<div>\n",
       "<style scoped>\n",
       "    .dataframe tbody tr th:only-of-type {\n",
       "        vertical-align: middle;\n",
       "    }\n",
       "\n",
       "    .dataframe tbody tr th {\n",
       "        vertical-align: top;\n",
       "    }\n",
       "\n",
       "    .dataframe thead th {\n",
       "        text-align: right;\n",
       "    }\n",
       "</style>\n",
       "<table border=\"1\" class=\"dataframe\">\n",
       "  <thead>\n",
       "    <tr style=\"text-align: right;\">\n",
       "      <th></th>\n",
       "      <th>Pregnancies</th>\n",
       "      <th>Glucose</th>\n",
       "      <th>BloodPressure</th>\n",
       "      <th>SkinThickness</th>\n",
       "      <th>Insulin</th>\n",
       "      <th>BMI</th>\n",
       "      <th>DiabetesPedigreeFunction</th>\n",
       "      <th>Age</th>\n",
       "      <th>Diagnosis</th>\n",
       "      <th>Classification</th>\n",
       "    </tr>\n",
       "  </thead>\n",
       "  <tbody>\n",
       "    <tr>\n",
       "      <th>0</th>\n",
       "      <td>6</td>\n",
       "      <td>148</td>\n",
       "      <td>72</td>\n",
       "      <td>35</td>\n",
       "      <td>0</td>\n",
       "      <td>33.6</td>\n",
       "      <td>0.627</td>\n",
       "      <td>50</td>\n",
       "      <td>1</td>\n",
       "      <td>Diabetes</td>\n",
       "    </tr>\n",
       "    <tr>\n",
       "      <th>2</th>\n",
       "      <td>8</td>\n",
       "      <td>183</td>\n",
       "      <td>64</td>\n",
       "      <td>0</td>\n",
       "      <td>0</td>\n",
       "      <td>23.3</td>\n",
       "      <td>0.672</td>\n",
       "      <td>32</td>\n",
       "      <td>1</td>\n",
       "      <td>Diabetes</td>\n",
       "    </tr>\n",
       "    <tr>\n",
       "      <th>4</th>\n",
       "      <td>0</td>\n",
       "      <td>137</td>\n",
       "      <td>40</td>\n",
       "      <td>35</td>\n",
       "      <td>168</td>\n",
       "      <td>43.1</td>\n",
       "      <td>2.288</td>\n",
       "      <td>33</td>\n",
       "      <td>1</td>\n",
       "      <td>Diabetes</td>\n",
       "    </tr>\n",
       "    <tr>\n",
       "      <th>6</th>\n",
       "      <td>3</td>\n",
       "      <td>78</td>\n",
       "      <td>50</td>\n",
       "      <td>32</td>\n",
       "      <td>88</td>\n",
       "      <td>31.0</td>\n",
       "      <td>0.248</td>\n",
       "      <td>26</td>\n",
       "      <td>1</td>\n",
       "      <td>Diabetes</td>\n",
       "    </tr>\n",
       "    <tr>\n",
       "      <th>8</th>\n",
       "      <td>2</td>\n",
       "      <td>197</td>\n",
       "      <td>70</td>\n",
       "      <td>45</td>\n",
       "      <td>543</td>\n",
       "      <td>30.5</td>\n",
       "      <td>0.158</td>\n",
       "      <td>53</td>\n",
       "      <td>1</td>\n",
       "      <td>Diabetes</td>\n",
       "    </tr>\n",
       "  </tbody>\n",
       "</table>\n",
       "</div>"
      ],
      "text/plain": [
       "   Pregnancies  Glucose  BloodPressure  SkinThickness  Insulin   BMI  \\\n",
       "0            6      148             72             35        0  33.6   \n",
       "2            8      183             64              0        0  23.3   \n",
       "4            0      137             40             35      168  43.1   \n",
       "6            3       78             50             32       88  31.0   \n",
       "8            2      197             70             45      543  30.5   \n",
       "\n",
       "   DiabetesPedigreeFunction  Age  Diagnosis Classification  \n",
       "0                     0.627   50          1       Diabetes  \n",
       "2                     0.672   32          1       Diabetes  \n",
       "4                     2.288   33          1       Diabetes  \n",
       "6                     0.248   26          1       Diabetes  \n",
       "8                     0.158   53          1       Diabetes  "
      ]
     },
     "execution_count": 43,
     "metadata": {},
     "output_type": "execute_result"
    }
   ],
   "source": [
    "withDiabetes = diabetes.query('Classification == \"Diabetes\"')\n",
    "withDiabetes.head()"
   ]
  },
  {
   "cell_type": "markdown",
   "id": "24b6fdc1-188f-4133-827e-84a370b99a0a",
   "metadata": {},
   "source": [
    "9. Create a new dataframe \"noDiabetes\" that gathers data with no diabetes"
   ]
  },
  {
   "cell_type": "code",
   "execution_count": 46,
   "id": "8ffcf15f-c334-4e98-8ea8-d45cbdeccc03",
   "metadata": {},
   "outputs": [
    {
     "data": {
      "text/html": [
       "<div>\n",
       "<style scoped>\n",
       "    .dataframe tbody tr th:only-of-type {\n",
       "        vertical-align: middle;\n",
       "    }\n",
       "\n",
       "    .dataframe tbody tr th {\n",
       "        vertical-align: top;\n",
       "    }\n",
       "\n",
       "    .dataframe thead th {\n",
       "        text-align: right;\n",
       "    }\n",
       "</style>\n",
       "<table border=\"1\" class=\"dataframe\">\n",
       "  <thead>\n",
       "    <tr style=\"text-align: right;\">\n",
       "      <th></th>\n",
       "      <th>Pregnancies</th>\n",
       "      <th>Glucose</th>\n",
       "      <th>BloodPressure</th>\n",
       "      <th>SkinThickness</th>\n",
       "      <th>Insulin</th>\n",
       "      <th>BMI</th>\n",
       "      <th>DiabetesPedigreeFunction</th>\n",
       "      <th>Age</th>\n",
       "      <th>Diagnosis</th>\n",
       "      <th>Classification</th>\n",
       "    </tr>\n",
       "  </thead>\n",
       "  <tbody>\n",
       "    <tr>\n",
       "      <th>1</th>\n",
       "      <td>1</td>\n",
       "      <td>85</td>\n",
       "      <td>66</td>\n",
       "      <td>29</td>\n",
       "      <td>0</td>\n",
       "      <td>26.6</td>\n",
       "      <td>0.351</td>\n",
       "      <td>31</td>\n",
       "      <td>0</td>\n",
       "      <td>No Diabetes</td>\n",
       "    </tr>\n",
       "    <tr>\n",
       "      <th>3</th>\n",
       "      <td>1</td>\n",
       "      <td>89</td>\n",
       "      <td>66</td>\n",
       "      <td>23</td>\n",
       "      <td>94</td>\n",
       "      <td>28.1</td>\n",
       "      <td>0.167</td>\n",
       "      <td>21</td>\n",
       "      <td>0</td>\n",
       "      <td>No Diabetes</td>\n",
       "    </tr>\n",
       "    <tr>\n",
       "      <th>5</th>\n",
       "      <td>5</td>\n",
       "      <td>116</td>\n",
       "      <td>74</td>\n",
       "      <td>0</td>\n",
       "      <td>0</td>\n",
       "      <td>25.6</td>\n",
       "      <td>0.201</td>\n",
       "      <td>30</td>\n",
       "      <td>0</td>\n",
       "      <td>No Diabetes</td>\n",
       "    </tr>\n",
       "    <tr>\n",
       "      <th>7</th>\n",
       "      <td>10</td>\n",
       "      <td>115</td>\n",
       "      <td>0</td>\n",
       "      <td>0</td>\n",
       "      <td>0</td>\n",
       "      <td>35.3</td>\n",
       "      <td>0.134</td>\n",
       "      <td>29</td>\n",
       "      <td>0</td>\n",
       "      <td>No Diabetes</td>\n",
       "    </tr>\n",
       "    <tr>\n",
       "      <th>10</th>\n",
       "      <td>4</td>\n",
       "      <td>110</td>\n",
       "      <td>92</td>\n",
       "      <td>0</td>\n",
       "      <td>0</td>\n",
       "      <td>37.6</td>\n",
       "      <td>0.191</td>\n",
       "      <td>30</td>\n",
       "      <td>0</td>\n",
       "      <td>No Diabetes</td>\n",
       "    </tr>\n",
       "  </tbody>\n",
       "</table>\n",
       "</div>"
      ],
      "text/plain": [
       "    Pregnancies  Glucose  BloodPressure  SkinThickness  Insulin   BMI  \\\n",
       "1             1       85             66             29        0  26.6   \n",
       "3             1       89             66             23       94  28.1   \n",
       "5             5      116             74              0        0  25.6   \n",
       "7            10      115              0              0        0  35.3   \n",
       "10            4      110             92              0        0  37.6   \n",
       "\n",
       "    DiabetesPedigreeFunction  Age  Diagnosis Classification  \n",
       "1                      0.351   31          0    No Diabetes  \n",
       "3                      0.167   21          0    No Diabetes  \n",
       "5                      0.201   30          0    No Diabetes  \n",
       "7                      0.134   29          0    No Diabetes  \n",
       "10                     0.191   30          0    No Diabetes  "
      ]
     },
     "execution_count": 46,
     "metadata": {},
     "output_type": "execute_result"
    }
   ],
   "source": [
    "noDiabetes = diabetes.query('Classification == \"No Diabetes\"')\n",
    "noDiabetes.head()"
   ]
  },
  {
   "cell_type": "markdown",
   "id": "35098081-8a37-49a5-9ef9-ca6218f5b77a",
   "metadata": {},
   "source": [
    "10. Create a new dataframe \"Pedia\" that gathers data with age 0 to 1"
   ]
  },
  {
   "cell_type": "code",
   "execution_count": 51,
   "id": "c67e2c7c-f7a8-4616-bd82-e7bb64674b57",
   "metadata": {},
   "outputs": [
    {
     "data": {
      "text/html": [
       "<div>\n",
       "<style scoped>\n",
       "    .dataframe tbody tr th:only-of-type {\n",
       "        vertical-align: middle;\n",
       "    }\n",
       "\n",
       "    .dataframe tbody tr th {\n",
       "        vertical-align: top;\n",
       "    }\n",
       "\n",
       "    .dataframe thead th {\n",
       "        text-align: right;\n",
       "    }\n",
       "</style>\n",
       "<table border=\"1\" class=\"dataframe\">\n",
       "  <thead>\n",
       "    <tr style=\"text-align: right;\">\n",
       "      <th></th>\n",
       "      <th>Pregnancies</th>\n",
       "      <th>Glucose</th>\n",
       "      <th>BloodPressure</th>\n",
       "      <th>SkinThickness</th>\n",
       "      <th>Insulin</th>\n",
       "      <th>BMI</th>\n",
       "      <th>DiabetesPedigreeFunction</th>\n",
       "      <th>Age</th>\n",
       "      <th>Diagnosis</th>\n",
       "      <th>Classification</th>\n",
       "    </tr>\n",
       "  </thead>\n",
       "  <tbody>\n",
       "  </tbody>\n",
       "</table>\n",
       "</div>"
      ],
      "text/plain": [
       "Empty DataFrame\n",
       "Columns: [Pregnancies, Glucose, BloodPressure, SkinThickness, Insulin, BMI, DiabetesPedigreeFunction, Age, Diagnosis, Classification]\n",
       "Index: []"
      ]
     },
     "execution_count": 51,
     "metadata": {},
     "output_type": "execute_result"
    }
   ],
   "source": [
    "Pedia = diabetes.query('Age >= 0 and Age <= 1')\n",
    "Pedia.head()"
   ]
  },
  {
   "cell_type": "markdown",
   "id": "ec4c4670-986a-4b48-bd69-d7e1d0c8203d",
   "metadata": {},
   "source": [
    "11. Create a new dataframe \"Adult\" that gathers data with age greater than 19"
   ]
  },
  {
   "cell_type": "code",
   "execution_count": 48,
   "id": "79ba29d3-e7de-4273-9b62-13a558232c00",
   "metadata": {},
   "outputs": [
    {
     "data": {
      "text/html": [
       "<div>\n",
       "<style scoped>\n",
       "    .dataframe tbody tr th:only-of-type {\n",
       "        vertical-align: middle;\n",
       "    }\n",
       "\n",
       "    .dataframe tbody tr th {\n",
       "        vertical-align: top;\n",
       "    }\n",
       "\n",
       "    .dataframe thead th {\n",
       "        text-align: right;\n",
       "    }\n",
       "</style>\n",
       "<table border=\"1\" class=\"dataframe\">\n",
       "  <thead>\n",
       "    <tr style=\"text-align: right;\">\n",
       "      <th></th>\n",
       "      <th>Pregnancies</th>\n",
       "      <th>Glucose</th>\n",
       "      <th>BloodPressure</th>\n",
       "      <th>SkinThickness</th>\n",
       "      <th>Insulin</th>\n",
       "      <th>BMI</th>\n",
       "      <th>DiabetesPedigreeFunction</th>\n",
       "      <th>Age</th>\n",
       "      <th>Diagnosis</th>\n",
       "      <th>Classification</th>\n",
       "    </tr>\n",
       "  </thead>\n",
       "  <tbody>\n",
       "    <tr>\n",
       "      <th>0</th>\n",
       "      <td>6</td>\n",
       "      <td>148</td>\n",
       "      <td>72</td>\n",
       "      <td>35</td>\n",
       "      <td>0</td>\n",
       "      <td>33.6</td>\n",
       "      <td>0.627</td>\n",
       "      <td>50</td>\n",
       "      <td>1</td>\n",
       "      <td>Diabetes</td>\n",
       "    </tr>\n",
       "    <tr>\n",
       "      <th>1</th>\n",
       "      <td>1</td>\n",
       "      <td>85</td>\n",
       "      <td>66</td>\n",
       "      <td>29</td>\n",
       "      <td>0</td>\n",
       "      <td>26.6</td>\n",
       "      <td>0.351</td>\n",
       "      <td>31</td>\n",
       "      <td>0</td>\n",
       "      <td>No Diabetes</td>\n",
       "    </tr>\n",
       "    <tr>\n",
       "      <th>2</th>\n",
       "      <td>8</td>\n",
       "      <td>183</td>\n",
       "      <td>64</td>\n",
       "      <td>0</td>\n",
       "      <td>0</td>\n",
       "      <td>23.3</td>\n",
       "      <td>0.672</td>\n",
       "      <td>32</td>\n",
       "      <td>1</td>\n",
       "      <td>Diabetes</td>\n",
       "    </tr>\n",
       "    <tr>\n",
       "      <th>3</th>\n",
       "      <td>1</td>\n",
       "      <td>89</td>\n",
       "      <td>66</td>\n",
       "      <td>23</td>\n",
       "      <td>94</td>\n",
       "      <td>28.1</td>\n",
       "      <td>0.167</td>\n",
       "      <td>21</td>\n",
       "      <td>0</td>\n",
       "      <td>No Diabetes</td>\n",
       "    </tr>\n",
       "    <tr>\n",
       "      <th>4</th>\n",
       "      <td>0</td>\n",
       "      <td>137</td>\n",
       "      <td>40</td>\n",
       "      <td>35</td>\n",
       "      <td>168</td>\n",
       "      <td>43.1</td>\n",
       "      <td>2.288</td>\n",
       "      <td>33</td>\n",
       "      <td>1</td>\n",
       "      <td>Diabetes</td>\n",
       "    </tr>\n",
       "  </tbody>\n",
       "</table>\n",
       "</div>"
      ],
      "text/plain": [
       "   Pregnancies  Glucose  BloodPressure  SkinThickness  Insulin   BMI  \\\n",
       "0            6      148             72             35        0  33.6   \n",
       "1            1       85             66             29        0  26.6   \n",
       "2            8      183             64              0        0  23.3   \n",
       "3            1       89             66             23       94  28.1   \n",
       "4            0      137             40             35      168  43.1   \n",
       "\n",
       "   DiabetesPedigreeFunction  Age  Diagnosis Classification  \n",
       "0                     0.627   50          1       Diabetes  \n",
       "1                     0.351   31          0    No Diabetes  \n",
       "2                     0.672   32          1       Diabetes  \n",
       "3                     0.167   21          0    No Diabetes  \n",
       "4                     2.288   33          1       Diabetes  "
      ]
     },
     "execution_count": 48,
     "metadata": {},
     "output_type": "execute_result"
    }
   ],
   "source": [
    "Adult = diabetes.query('Age >= 19')\n",
    "Adult.head()"
   ]
  },
  {
   "cell_type": "markdown",
   "id": "d2e78de9-31a6-45b0-9dda-503b612d7f6f",
   "metadata": {},
   "source": [
    "12. Use numpy to get the average age and glucose value."
   ]
  },
  {
   "cell_type": "code",
   "execution_count": 55,
   "id": "209de4ae-a572-43ce-9083-0429ea508a2b",
   "metadata": {},
   "outputs": [
    {
     "name": "stdout",
     "output_type": "stream",
     "text": [
      "Average age: 33.2409\n",
      "Average glucose value: 120.8945\n"
     ]
    }
   ],
   "source": [
    "import numpy as np\n",
    "\n",
    "age = diabetes['Age'].values\n",
    "mean_age = np.mean(age)\n",
    "print(\"Average age:\", round(mean_age, 4))\n",
    "\n",
    "glucose = diabetes['Glucose'].values\n",
    "mean_glucose = np.mean(glucose)\n",
    "print(\"Average glucose value:\", round(mean_glucose, 4))"
   ]
  },
  {
   "cell_type": "markdown",
   "id": "2290e1ff-b014-47e7-8b15-9edc826a89c2",
   "metadata": {},
   "source": [
    "13. Use numpy to get the median age and glucose value.\n"
   ]
  },
  {
   "cell_type": "code",
   "execution_count": 58,
   "id": "c43214bf-1fd1-4e72-aa93-89dc126d3cd5",
   "metadata": {},
   "outputs": [
    {
     "name": "stdout",
     "output_type": "stream",
     "text": [
      "Median age: 29.0\n"
     ]
    }
   ],
   "source": [
    "import numpy as np\n",
    "\n",
    "diabetes.sort_values(by = 'Age')\n",
    "age = diabetes['Age'].values\n",
    "median_age = np.median(age)\n",
    "print(\"Median age:\", round(median_age, 4))"
   ]
  },
  {
   "cell_type": "code",
   "execution_count": 59,
   "id": "5dfa0dc1-7810-44d8-accf-eaae77bb6fea",
   "metadata": {},
   "outputs": [
    {
     "name": "stdout",
     "output_type": "stream",
     "text": [
      "Median glucose value: 117.0\n"
     ]
    }
   ],
   "source": [
    "diabetes.sort_values(by = 'Glucose')\n",
    "glucose = diabetes['Glucose'].values\n",
    "median_glucose = np.median(glucose)\n",
    "print(\"Median glucose value:\", round(median_glucose, 4))"
   ]
  },
  {
   "cell_type": "markdown",
   "id": "ca4de13a-d8c5-421f-a3de-b01b0d0e3312",
   "metadata": {},
   "source": [
    "14. Use numpy to get the middle values of glucose and age."
   ]
  },
  {
   "cell_type": "code",
   "execution_count": 60,
   "id": "2dbc20d6-7774-402a-921f-b62ea394bd14",
   "metadata": {},
   "outputs": [
    {
     "name": "stdout",
     "output_type": "stream",
     "text": [
      "Median age: 29.0\n",
      "Median glucose value: 117.0\n"
     ]
    }
   ],
   "source": [
    "import numpy as np\n",
    "\n",
    "diabetes.sort_values(by = 'Age')\n",
    "age = diabetes['Age'].values\n",
    "median_age = np.median(age)\n",
    "print(\"Median age:\", round(median_age, 4))\n",
    "\n",
    "diabetes.sort_values(by = 'Glucose')\n",
    "glucose = diabetes['Glucose'].values\n",
    "median_glucose = np.median(glucose)\n",
    "print(\"Median glucose value:\", round(median_glucose, 4))"
   ]
  },
  {
   "cell_type": "markdown",
   "id": "e1fc2ef1-eab2-4f77-9f8d-f0625c901a1b",
   "metadata": {},
   "source": [
    "15. Use numpy to get the standard deviation of the skinthickness.\n"
   ]
  },
  {
   "cell_type": "code",
   "execution_count": 61,
   "id": "2f2d8e0c-4b70-41b1-a97e-b218b257d016",
   "metadata": {},
   "outputs": [
    {
     "name": "stdout",
     "output_type": "stream",
     "text": [
      "Standard deviation of skin thickness: 15.9418\n"
     ]
    }
   ],
   "source": [
    "skinthicc = diabetes['SkinThickness'].values\n",
    "stdev_skinthicc = np.std(skinthicc)\n",
    "print(\"Standard deviation of skin thickness:\", round(stdev_skinthicc,4))"
   ]
  },
  {
   "cell_type": "markdown",
   "id": "6243ddba-fa36-4ad5-8c51-cd5bc5dd6bf5",
   "metadata": {},
   "source": [
    "## 6.4 Conclusion"
   ]
  },
  {
   "cell_type": "markdown",
   "id": "c485795b-1006-49ea-86f8-39f8c6860f78",
   "metadata": {},
   "source": [
    "In this activity I was introduced and familiarized with the data analysis tools used in Python. I observed that importing libraries for data analysis greatly helped me in performing the tasks provided, and was much easier to utilize instead of figuring out a formula for each statistical term. For instance, I don't need to think about the formula for getting the median value since I can just call median(). However, being knowledgeable about the statistical formulae helps in understanding the idea behind those imported functions.\n",
    "\n",
    "Furthermore, I was able to review about utilizing pandas to analyze datasets and dataframes. I was able to discover ways to filter the dataset based on different criteria, as well as perform basic statistical analysis using numpy. I was used in using the pandas libraries to perform statistical analysis, but using numpy has allowed me to be a bit more familiarized in the process of analyzing data statistically.\n",
    "\n",
    "Overall, this activity helped enhance my knowledge in using basic data analysis tools and also allowed me to review concepts I have learned in my past courses."
   ]
  }
 ],
 "metadata": {
  "kernelspec": {
   "display_name": "Python 3 (ipykernel)",
   "language": "python",
   "name": "python3"
  },
  "language_info": {
   "codemirror_mode": {
    "name": "ipython",
    "version": 3
   },
   "file_extension": ".py",
   "mimetype": "text/x-python",
   "name": "python",
   "nbconvert_exporter": "python",
   "pygments_lexer": "ipython3",
   "version": "3.12.7"
  }
 },
 "nbformat": 4,
 "nbformat_minor": 5
}
