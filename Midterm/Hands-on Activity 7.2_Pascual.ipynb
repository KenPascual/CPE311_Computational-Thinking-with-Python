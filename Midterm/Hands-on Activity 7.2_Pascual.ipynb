{
 "cells": [
  {
   "cell_type": "markdown",
   "id": "cff4ae3a-4d32-4e7f-9d62-d75b5f40e991",
   "metadata": {},
   "source": [
    "# Hands-on Activity 7.2 Webscraping using BeautifulSoup and Requests"
   ]
  },
  {
   "cell_type": "markdown",
   "id": "966712a4-1689-44c0-b840-9615e570c905",
   "metadata": {},
   "source": [
    "### CPE311 Computational Thinking with Python"
   ]
  },
  {
   "cell_type": "markdown",
   "id": "ec054889-2e4a-4164-8b12-148d5ef04c0c",
   "metadata": {},
   "source": [
    "Name: Pascual, Ken Leonard"
   ]
  },
  {
   "cell_type": "markdown",
   "id": "a5983933-d267-4cd6-8257-689c1f08efc6",
   "metadata": {},
   "source": [
    "Section: CPE22S3"
   ]
  },
  {
   "cell_type": "markdown",
   "id": "c2fb6362-0291-4f49-abdc-aa386b08c549",
   "metadata": {},
   "source": [
    "Performed on: 04/11/2025"
   ]
  },
  {
   "cell_type": "markdown",
   "id": "e0bb5157-51bb-4695-af17-928f5ed6dd46",
   "metadata": {},
   "source": [
    "Submitted on: 04/11/2025"
   ]
  },
  {
   "cell_type": "markdown",
   "id": "eb53709d-3bda-4c48-b07e-12109a32621e",
   "metadata": {},
   "source": [
    "Submitted to: Engr. Roman M. Richard"
   ]
  },
  {
   "cell_type": "markdown",
   "id": "3b2ffdd6-1c88-426b-9ef9-a82f3c62e57d",
   "metadata": {},
   "source": [
    "## Gathering image data using webcam"
   ]
  },
  {
   "cell_type": "code",
   "execution_count": 4,
   "id": "7dae5bf9-b08b-4947-8e43-780ae59a1900",
   "metadata": {},
   "outputs": [
    {
     "name": "stdout",
     "output_type": "stream",
     "text": [
      "Requirement already satisfied: opencv-python in c:\\programdata\\anaconda3\\envs\\cpe311_pascual\\lib\\site-packages (4.11.0.86)\n",
      "Requirement already satisfied: numpy>=1.21.2 in c:\\programdata\\anaconda3\\envs\\cpe311_pascual\\lib\\site-packages (from opencv-python) (2.2.4)\n"
     ]
    }
   ],
   "source": [
    "!pip install opencv-python"
   ]
  },
  {
   "cell_type": "code",
   "execution_count": 5,
   "id": "53f79136-e054-45f3-bfd4-29ad6cb08977",
   "metadata": {},
   "outputs": [
    {
     "ename": "ModuleNotFoundError",
     "evalue": "No module named 'cv2'",
     "output_type": "error",
     "traceback": [
      "\u001b[31m---------------------------------------------------------------------------\u001b[39m",
      "\u001b[31mModuleNotFoundError\u001b[39m                       Traceback (most recent call last)",
      "\u001b[36mCell\u001b[39m\u001b[36m \u001b[39m\u001b[32mIn[5]\u001b[39m\u001b[32m, line 1\u001b[39m\n\u001b[32m----> \u001b[39m\u001b[32m1\u001b[39m \u001b[38;5;28;01mimport\u001b[39;00m\u001b[38;5;250m \u001b[39m\u001b[34;01mcv2\u001b[39;00m\n\u001b[32m      2\u001b[39m \u001b[38;5;28;01mfrom\u001b[39;00m\u001b[38;5;250m \u001b[39m\u001b[34;01mgoogle\u001b[39;00m\u001b[34;01m.\u001b[39;00m\u001b[34;01mcolab\u001b[39;00m\u001b[34;01m.\u001b[39;00m\u001b[34;01mpatches\u001b[39;00m\u001b[38;5;250m \u001b[39m\u001b[38;5;28;01mimport\u001b[39;00m cv2_imshow\n\u001b[32m      3\u001b[39m key = cv2.VideoCapture(\u001b[32m0\u001b[39m)\n",
      "\u001b[31mModuleNotFoundError\u001b[39m: No module named 'cv2'"
     ]
    }
   ],
   "source": [
    "import cv2\n",
    "from google.colab.patches import cv2_imshow\n",
    "key = cv2.VideoCapture(0)\n",
    "\n",
    "while True:\n",
    "        try:\n",
    "            check, frame = webcam.read()\n",
    "            print(check)\n",
    "            print(frame)\n",
    "            cv2.imshow(\"Capturing\", frame)\n",
    "            key = cv2.waitKey(1)\n",
    "            if key == ord('s'):\n",
    "                cv2.imwrite(filename='saved_img.jpg', img=frame)\n",
    "                webcam.release()\n",
    "                img_new = cv2.imread('saved_img.jpg', cv2.IMREAD_GRAYSCALE)\n",
    "                img_new = cv2.imshow(\"Captured Image\", img_new)\n",
    "                cv2.waitKey(1650)\n",
    "                cv2.destroyAllWindows()\n",
    "                print(\"Processing image...\")\n",
    "                img_ = cv2.imread('saved_img.jpg', cv2.IMREAD_ANYCOLOR)\n",
    "                print(\"Converting RGB image to grayscale...\")\n",
    "                gray = cv2.cvtColor(img_, cv2.COLOR_BGR2GRAY)\n",
    "                print(\"Converted RGB image to grayscale...\")\n",
    "                print(\"Resizing image to 28x28 scale...\")\n",
    "                img_ = cv2.resize(gray,(28,28))\n",
    "                print(\"Resized...\")\n",
    "                img_resized = cv2.imwrite(filename='saved_img_final.jpg', img = img_)\n",
    "                print(\"Image saved!\")\n",
    "                break\n",
    "                \n",
    "            elif key == ord('q'):\n",
    "                print(\"Turning off camera.\")\n",
    "                webcam.release()\n",
    "                gprint(\"Camera off.\")\n",
    "                print(\"Program ended.\")\n",
    "                cv2.destroyAllWindows()\n",
    "                break\n",
    "\n",
    "        except(KeyboardInterrupt):\n",
    "            print(\"Turning off camera.\")\n",
    "            webcam.release()\n",
    "            print(\"Camera off.\")\n",
    "            print(\"Program ended.\")\n",
    "            cv2.destroyAllWindows()\n",
    "            break\n"
   ]
  },
  {
   "cell_type": "code",
   "execution_count": null,
   "id": "f1cf5ec4-7cba-44f6-9e1a-4b6b04e8cbf6",
   "metadata": {},
   "outputs": [],
   "source": []
  }
 ],
 "metadata": {
  "kernelspec": {
   "display_name": "Python 3 (ipykernel)",
   "language": "python",
   "name": "python3"
  },
  "language_info": {
   "codemirror_mode": {
    "name": "ipython",
    "version": 3
   },
   "file_extension": ".py",
   "mimetype": "text/x-python",
   "name": "python",
   "nbconvert_exporter": "python",
   "pygments_lexer": "ipython3",
   "version": "3.12.7"
  }
 },
 "nbformat": 4,
 "nbformat_minor": 5
}
