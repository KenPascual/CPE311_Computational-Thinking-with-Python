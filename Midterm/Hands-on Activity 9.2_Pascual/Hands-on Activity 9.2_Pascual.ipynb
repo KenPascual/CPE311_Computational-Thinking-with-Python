{
 "cells": [
  {
   "cell_type": "markdown",
   "id": "a86aac5b-c3d9-4842-87d4-709bb908d83b",
   "metadata": {},
   "source": [
    "# Hands-on Activity 9.2"
   ]
  }
 ],
 "metadata": {
  "kernelspec": {
   "display_name": "Python 3 (ipykernel)",
   "language": "python",
   "name": "python3"
  },
  "language_info": {
   "codemirror_mode": {
    "name": "ipython",
    "version": 3
   },
   "file_extension": ".py",
   "mimetype": "text/x-python",
   "name": "python",
   "nbconvert_exporter": "python",
   "pygments_lexer": "ipython3",
   "version": "3.12.7"
  }
 },
 "nbformat": 4,
 "nbformat_minor": 5
}
