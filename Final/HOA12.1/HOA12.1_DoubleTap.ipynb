{
 "cells": [
  {
   "cell_type": "markdown",
   "id": "8853d613-9beb-4872-a025-0221b6be8209",
   "metadata": {},
   "source": [
    "# Hands-on Activity 8.1: Aggregating Data with Pandas"
   ]
  },
  {
   "cell_type": "markdown",
   "id": "81116e22-1f27-480c-b2f0-340d46f3f0b6",
   "metadata": {},
   "source": [
    "1. Review your submission in [Hands-on Activity 10.1 Data Analysis Using Python](https://github.com/KenPascual/CPE311_Computational-Thinking-with-Python/tree/517dae94f950926883d6697621a995269692d9a8/Final/HOA10.1)"
   ]
  },
  {
   "cell_type": "markdown",
   "id": "f5cb8c08-3060-44a2-a338-866f4831b827",
   "metadata": {},
   "source": [
    "2. Create a visualization on SAP Cloud."
   ]
  },
  {
   "cell_type": "markdown",
   "id": "6ad775fc-578e-451b-85da-c4a321d59c37",
   "metadata": {
    "jp-MarkdownHeadingCollapsed": true
   },
   "source": [
    "3. Provide a simple presentation in a lab report."
   ]
  },
  {
   "cell_type": "markdown",
   "id": "bc20fe09-7217-4d3e-a4f2-d5424610e651",
   "metadata": {},
   "source": [
    "[Output and Presentation](https://github.com/KenPascual/CPE311_Computational-Thinking-with-Python/tree/1f9bf63fc857be8c1853df5e83f86b41b9ec3694/Final/HOA12.1)"
   ]
  }
 ],
 "metadata": {
  "kernelspec": {
   "display_name": "Python 3 (ipykernel)",
   "language": "python",
   "name": "python3"
  },
  "language_info": {
   "codemirror_mode": {
    "name": "ipython",
    "version": 3
   },
   "file_extension": ".py",
   "mimetype": "text/x-python",
   "name": "python",
   "nbconvert_exporter": "python",
   "pygments_lexer": "ipython3",
   "version": "3.12.9"
  }
 },
 "nbformat": 4,
 "nbformat_minor": 5
}
