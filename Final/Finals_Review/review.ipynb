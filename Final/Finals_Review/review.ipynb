{
 "cells": [
  {
   "cell_type": "markdown",
   "id": "3d61f902",
   "metadata": {},
   "source": [
    "# Finals Review"
   ]
  },
  {
   "cell_type": "markdown",
   "id": "8e5f6f9d",
   "metadata": {},
   "source": [
    "This review for CPE311 final exams aims to cover Stefanie Molin's book, Hands-On Data Analysis with Pandas."
   ]
  },
  {
   "cell_type": "code",
   "execution_count": 2,
   "id": "03a4a8a9",
   "metadata": {},
   "outputs": [
    {
     "name": "stdout",
     "output_type": "stream",
     "text": [
      "yippee\n"
     ]
    }
   ],
   "source": [
    "print(\"yippee\")"
   ]
  },
  {
   "cell_type": "code",
   "execution_count": null,
   "id": "ee2f3284",
   "metadata": {},
   "outputs": [],
   "source": []
  }
 ],
 "metadata": {
  "kernelspec": {
   "display_name": "Python 3 (ipykernel)",
   "language": "python",
   "name": "python3"
  },
  "language_info": {
   "codemirror_mode": {
    "name": "ipython",
    "version": 3
   },
   "file_extension": ".py",
   "mimetype": "text/x-python",
   "name": "python",
   "nbconvert_exporter": "python",
   "pygments_lexer": "ipython3",
   "version": "3.12.7"
  }
 },
 "nbformat": 4,
 "nbformat_minor": 5
}
