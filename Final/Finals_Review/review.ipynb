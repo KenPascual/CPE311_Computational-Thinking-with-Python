{
 "cells": [
  {
   "cell_type": "markdown",
   "id": "3d61f902",
   "metadata": {},
   "source": [
    "# Finals Review"
   ]
  },
  {
   "cell_type": "markdown",
   "id": "8e5f6f9d",
   "metadata": {},
   "source": [
    "This review for CPE311 final exams aims to cover Stefanie Molin's book, Hands-On Data Analysis with Pandas."
   ]
  }
 ],
 "metadata": {
  "language_info": {
   "name": "python"
  }
 },
 "nbformat": 4,
 "nbformat_minor": 5
}
