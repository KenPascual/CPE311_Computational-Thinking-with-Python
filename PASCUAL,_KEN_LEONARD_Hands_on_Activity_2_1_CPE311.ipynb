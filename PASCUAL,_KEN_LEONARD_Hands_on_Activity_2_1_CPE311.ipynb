{
  "nbformat": 4,
  "nbformat_minor": 0,
  "metadata": {
    "colab": {
      "provenance": [],
      "authorship_tag": "ABX9TyNvFHZ0AzAs1XY4LEtoDcEk",
      "include_colab_link": true
    },
    "kernelspec": {
      "name": "python3",
      "display_name": "Python 3"
    },
    "language_info": {
      "name": "python"
    }
  },
  "cells": [
    {
      "cell_type": "markdown",
      "metadata": {
        "id": "view-in-github",
        "colab_type": "text"
      },
      "source": [
        "<a href=\"https://colab.research.google.com/github/KenPascual/CPE311_Computational-Thinking-with-Python/blob/main/PASCUAL%2C_KEN_LEONARD_Hands_on_Activity_2_1_CPE311.ipynb\" target=\"_parent\"><img src=\"https://colab.research.google.com/assets/colab-badge.svg\" alt=\"Open In Colab\"/></a>"
      ]
    },
    {
      "cell_type": "markdown",
      "source": [
        "#Hands-on Activity 2.1: The Tower of Hanoi Problem\n"
      ],
      "metadata": {
        "id": "u4KD8FoTuHOI"
      }
    },
    {
      "cell_type": "markdown",
      "source": [
        "##Intended Learning Outcomes\n",
        "\n",
        "\n",
        "*   Analyze and solve computational problems using problem solving methodologies and decomposition.\n",
        "\n"
      ],
      "metadata": {
        "id": "XCGXT3gQoWD0"
      }
    },
    {
      "cell_type": "markdown",
      "source": [
        "##Objectives\n",
        "*   Introduce students to the Tower of Hanoi Problem\n",
        "*   Apply the fundamentals of logical and algorithmic thinking\n",
        "*   Solve the Tower of Hanoi Problem using Python\n",
        "\n"
      ],
      "metadata": {
        "id": "1VoQoGbCogV0"
      }
    },
    {
      "cell_type": "markdown",
      "source": [
        "In solving the Tower of Hanoi problem, I utilized a top-down decomposition approach to come up with a solution.\n",
        "\n",
        "I viewed that this is alright last na"
      ],
      "metadata": {
        "id": "Y-4scqKRpMPX"
      }
    },
    {
      "cell_type": "code",
      "source": [
        "# Recursive Python function to solve tower of hanoi\n",
        "\n",
        "\n",
        "def TowerOfHanoi(n, from_rod, to_rod, aux_rod):\n",
        "    if n == 0:\n",
        "        return\n",
        "    TowerOfHanoi(n-1, from_rod, aux_rod, to_rod)\n",
        "    print(\"Move disk\", n, \"from rod\", from_rod, \"to rod\", to_rod)\n",
        "    TowerOfHanoi(n-1, aux_rod, to_rod, from_rod)\n",
        "\n",
        "\n",
        "# Driver code\n",
        "N = 3\n",
        "\n",
        "# A, C, B are the name of rods\n",
        "TowerOfHanoi(N, 'A', 'C', 'B')\n",
        "\n",
        "# Contributed By Harshit Agrawal\n"
      ],
      "metadata": {
        "id": "tNWiRQnqulbn"
      },
      "execution_count": null,
      "outputs": []
    },
    {
      "cell_type": "markdown",
      "source": [
        "References for future use:\n",
        "https://www.cs.cmu.edu/~cburch/survey/recurse/hanoiimpl.html\n",
        "https://stackoverflow.com/questions/1223305/tower-of-hanoi-recursive-algorithm\n",
        "https://www.cs.cmu.edu/~cburch/survey/recurse/hanoiex.html\n"
      ],
      "metadata": {
        "id": "mtibzwe9xibw"
      }
    },
    {
      "cell_type": "code",
      "source": [],
      "metadata": {
        "id": "5cctDekWxkz3"
      },
      "execution_count": null,
      "outputs": []
    },
    {
      "cell_type": "code",
      "source": [
        "import sys\n",
        "\n",
        "# A structure to represent a stack\n",
        "class Stack:\n",
        "    # Constructor to set the data of\n",
        "    # the newly created tree node\n",
        "    def __init__(self, capacity):\n",
        "        self.capacity = capacity\n",
        "        self.top = -1\n",
        "        self.array = [0] * capacity\n",
        "\n",
        "# Function to create a stack of given capacity.\n",
        "def createStack(capacity):\n",
        "    stack = Stack(capacity)\n",
        "    return stack\n",
        "\n",
        "# Stack is full when top is equal to the last index\n",
        "def isFull(stack):\n",
        "    return (stack.top == (stack.capacity - 1))\n",
        "\n",
        "# Stack is empty when top is equal to -1\n",
        "def isEmpty(stack):\n",
        "    return (stack.top == -1)\n",
        "\n",
        "# Function to add an item to stack.\n",
        "# It increases top by 1\n",
        "def push(stack, item):\n",
        "    if isFull(stack):\n",
        "        return\n",
        "    stack.top += 1\n",
        "    stack.array[stack.top] = item\n",
        "\n",
        "# Function to remove an item from stack.\n",
        "# It decreases top by 1\n",
        "def Pop(stack):\n",
        "    if isEmpty(stack):\n",
        "        return -sys.maxsize\n",
        "    Top = stack.top\n",
        "    stack.top -= 1\n",
        "    return stack.array[Top]\n",
        "\n",
        "# Function to implement legal\n",
        "# movement between two poles\n",
        "def moveDisksBetweenTwoPoles(src, dest, s, d):\n",
        "    pole1TopDisk = Pop(src)\n",
        "    pole2TopDisk = Pop(dest)\n",
        "\n",
        "    # When pole 1 is empty\n",
        "    if pole1TopDisk == -sys.maxsize:\n",
        "        push(src, pole2TopDisk)\n",
        "        moveDisk(d, s, pole2TopDisk)\n",
        "\n",
        "    # When pole2 pole is empty\n",
        "    elif pole2TopDisk == -sys.maxsize:\n",
        "        push(dest, pole1TopDisk)\n",
        "        moveDisk(s, d, pole1TopDisk)\n",
        "\n",
        "    # When top disk of pole1 > top disk of pole2\n",
        "    elif pole1TopDisk > pole2TopDisk:\n",
        "        push(src, pole1TopDisk)\n",
        "        push(src, pole2TopDisk)\n",
        "        moveDisk(d, s, pole2TopDisk)\n",
        "\n",
        "    # When top disk of pole1 < top disk of pole2\n",
        "    else:\n",
        "        push(dest, pole2TopDisk)\n",
        "        push(dest, pole1TopDisk)\n",
        "        moveDisk(s, d, pole1TopDisk)\n",
        "\n",
        "# Function to show the movement of disks\n",
        "def moveDisk(fromPeg, toPeg, disk):\n",
        "    print(f\"Move the disk {disk} from '{fromPeg}' to '{toPeg}'\")\n",
        "\n",
        "# Function to implement TOH puzzle\n",
        "def tohIterative(num_of_disks, src, aux, dest):\n",
        "    s, d, a = 'S', 'D', 'A'\n",
        "\n",
        "    # If number of disks is even, then interchange\n",
        "    # destination pole and auxiliary pole\n",
        "    if num_of_disks % 2 == 0:\n",
        "        temp = d\n",
        "        d = a\n",
        "        a = temp\n",
        "\n",
        "    total_num_of_moves = int(pow(2, num_of_disks) - 1)\n",
        "\n",
        "    # Larger disks will be pushed first\n",
        "    for i in range(num_of_disks, 0, -1):\n",
        "        push(src, i)\n",
        "\n",
        "    for i in range(1, total_num_of_moves + 1):\n",
        "        if i % 3 == 1:\n",
        "            moveDisksBetweenTwoPoles(src, dest, s, d)\n",
        "        elif i % 3 == 2:\n",
        "            moveDisksBetweenTwoPoles(src, aux, s, a)\n",
        "        elif i % 3 == 0:\n",
        "            moveDisksBetweenTwoPoles(aux, dest, a, d)\n",
        "\n",
        "# Input: number of disks\n",
        "num_of_disks = 4\n",
        "\n",
        "# Create three stacks of size 'num_of_disks'\n",
        "# to hold the disks\n",
        "src = createStack(num_of_disks)\n",
        "dest = createStack(num_of_disks)\n",
        "aux = createStack(num_of_disks)\n",
        "\n",
        "tohIterative(num_of_disks, src, aux, dest)\n"
      ],
      "metadata": {
        "id": "RfmTJbZV2nRH"
      },
      "execution_count": null,
      "outputs": []
    },
    {
      "cell_type": "markdown",
      "source": [
        "https://www.geeksforgeeks.org/iterative-tower-of-hanoi/\n",
        "https://www.knowitallninja.com/dashboard/lessons/modularisation-decomposition/\n",
        "https://medium.com/enjoy-algorithm/top-down-vs-bottom-up-approach-in-dynamic-programming-53b917bfbe0\n",
        "https://stackoverflow.com/questions/70531371/how-solve-iterative-method-for-hanoi-problem\n",
        "\n"
      ],
      "metadata": {
        "id": "zisVWR296s1J"
      }
    }
  ]
}