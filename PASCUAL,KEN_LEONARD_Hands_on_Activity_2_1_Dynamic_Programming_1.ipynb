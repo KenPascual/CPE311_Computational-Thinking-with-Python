{
  "cells": [
    {
      "cell_type": "markdown",
      "metadata": {
        "id": "view-in-github",
        "colab_type": "text"
      },
      "source": [
        "<a href=\"https://colab.research.google.com/github/KenPascual/CPE311_Computational-Thinking-with-Python/blob/main/PASCUAL%2CKEN_LEONARD_Hands_on_Activity_2_1_Dynamic_Programming_1.ipynb\" target=\"_parent\"><img src=\"https://colab.research.google.com/assets/colab-badge.svg\" alt=\"Open In Colab\"/></a>"
      ]
    },
    {
      "cell_type": "markdown",
      "source": [
        "https://github.com/KenPascual/CPE311_Computational-Thinking-with-Python/blob/main/PASCUAL%2CKEN_LEONARD_Hands_on_Activity_2_1_Dynamic_Programming_1.ipynb\n"
      ],
      "metadata": {
        "id": "fcJ9sFQxLY3e"
      },
      "id": "fcJ9sFQxLY3e"
    },
    {
      "cell_type": "markdown",
      "id": "f1c6ec95",
      "metadata": {
        "id": "f1c6ec95"
      },
      "source": [
        "# Hands-on Activity 2.1 : Dynamic Programming"
      ]
    },
    {
      "cell_type": "markdown",
      "id": "56dacba1",
      "metadata": {
        "id": "56dacba1"
      },
      "source": [
        "#### Objective(s):\n",
        "\n",
        "This activity aims to demonstrate how to use dynamic programming to solve problems."
      ]
    },
    {
      "cell_type": "markdown",
      "id": "e51f84e3",
      "metadata": {
        "id": "e51f84e3"
      },
      "source": [
        "#### Intended Learning Outcomes (ILOs):\n",
        "* Differentiate recursion method from dynamic programming to solve problems.\n",
        "* Demonstrate how to  solve real-world problems using dynamic programming\n"
      ]
    },
    {
      "cell_type": "markdown",
      "id": "39047b1a",
      "metadata": {
        "id": "39047b1a"
      },
      "source": [
        "#### Resources:\n",
        "* Jupyter Notebook\n"
      ]
    },
    {
      "cell_type": "markdown",
      "id": "cb5360c0",
      "metadata": {
        "id": "cb5360c0"
      },
      "source": [
        "#### Procedures:"
      ]
    },
    {
      "cell_type": "markdown",
      "id": "206a914c",
      "metadata": {
        "id": "206a914c"
      },
      "source": [
        "1. Create a code that demonstrate how to use recursion method to solve problem"
      ]
    },
    {
      "cell_type": "markdown",
      "id": "5744a876",
      "metadata": {
        "id": "5744a876"
      },
      "source": [
        "2. Create a program codes that demonstrate how to use dynamic programming to solve the same problem"
      ]
    },
    {
      "cell_type": "markdown",
      "id": "8e3f6572",
      "metadata": {
        "id": "8e3f6572"
      },
      "source": [
        "##### Question:\n",
        "Explain the difference of using the recursion from dynamic programming using the given sample codes to solve the same problem"
      ]
    },
    {
      "cell_type": "markdown",
      "id": "b5a71b53",
      "metadata": {
        "id": "b5a71b53"
      },
      "source": [
        "Based on my observations, the main difference between recursion and dynamic programming is that dynamic programming solves the problem in a way that it saves resources (either time or space) by implementing methods to store values of solutions that have been done in past computations.\n",
        "\n",
        "Meanwhile, recursion keeps on trying all possible choices every time it runs. Basically, it brute-forces the problem until it finds a solution that can fit."
      ]
    },
    {
      "cell_type": "markdown",
      "id": "60074702",
      "metadata": {
        "id": "60074702"
      },
      "source": [
        "3. Create a sample program codes to simulate bottom-up dynamic programming"
      ]
    },
    {
      "cell_type": "markdown",
      "id": "e629eb89",
      "metadata": {
        "id": "e629eb89"
      },
      "source": [
        "4. Create a sample program codes that simulate tops-down dynamic programming"
      ]
    },
    {
      "cell_type": "markdown",
      "id": "c2e2434c",
      "metadata": {
        "id": "c2e2434c"
      },
      "source": [
        "#### Question:\n",
        " Explain the difference between bottom-up from top-down dynamic programming using the given sample codes"
      ]
    },
    {
      "cell_type": "markdown",
      "id": "ac97e063",
      "metadata": {
        "id": "ac97e063"
      },
      "source": [
        "Both methods of dynamic programming solve problems by breaking them into overlapping subproblems to avoid redundant calculations. Both methods also employ a way to store the data they compute temporarily. However, what they do afterwards differ. </br>\n",
        "\n",
        "Bottom-up dynamic programming starts from the smallest details such as base cases to work on subproblems. To store the values it computes, it uses tabulation to iteratively compute solutions. On the other hand, top-down dynamic programming starts from the main problem and works towards the details, solving the main problem one subproblem at a time."
      ]
    },
    {
      "cell_type": "markdown",
      "id": "f7a5bfbd",
      "metadata": {
        "id": "f7a5bfbd"
      },
      "source": [
        "0/1 Knapsack Problem\n",
        "\n",
        "* Analyze three different techniques to solve knapsacks problem\n",
        "1. Recursion\n",
        "2. Dynamic Programming\n",
        "3. Memoization"
      ]
    },
    {
      "cell_type": "code",
      "source": [
        "#sample code for knapsack problem using recursion\n",
        "def rec_knapSack(w, wt, val, n):\n",
        "\n",
        "  #base case\n",
        "  #defined as nth item is empty;\n",
        "  #or the capacity w is 0\n",
        "  if n == 0 or w == 0:\n",
        "    return 0\n",
        "\n",
        "  #if weight of the nth item is more than\n",
        "  #the capacity W, then this item cannot be included\n",
        "  #as part of the optimal solution\n",
        "  if(wt[n-1] > w):\n",
        "    return rec_knapSack(w, wt, val, n-1)\n",
        "\n",
        "  #return the maximum of the two cases:\n",
        "  # (1) include the nth item\n",
        "  # (2) don't include the nth item\n",
        "  else:\n",
        "    return max(\n",
        "        val[n-1] + rec_knapSack(\n",
        "            w-wt[n-1], wt, val, n-1),\n",
        "            rec_knapSack(w, wt, val, n-1)\n",
        "    )"
      ],
      "metadata": {
        "id": "15SVHF85_1Ji"
      },
      "id": "15SVHF85_1Ji",
      "execution_count": null,
      "outputs": []
    },
    {
      "cell_type": "code",
      "source": [
        "#To test:\n",
        "val = [60, 100, 120] #values for the items\n",
        "wt = [10, 20, 30] #weight of the items\n",
        "w = 50 #knapsack weight capacity\n",
        "n = len(val) #number of items\n",
        "\n",
        "rec_knapSack(w, wt, val, n)"
      ],
      "metadata": {
        "colab": {
          "base_uri": "https://localhost:8080/"
        },
        "id": "b1D3YRJ7cMqU",
        "outputId": "788d87c8-0d84-4dd6-dfcf-1206fa495812"
      },
      "id": "b1D3YRJ7cMqU",
      "execution_count": null,
      "outputs": [
        {
          "output_type": "execute_result",
          "data": {
            "text/plain": [
              "220"
            ]
          },
          "metadata": {},
          "execution_count": 27
        }
      ]
    },
    {
      "cell_type": "code",
      "source": [
        "#Dynamic Programming for the Knapsack Problem\n",
        "def DP_knapSack(w, wt, val, n):\n",
        "  #create the table\n",
        "  table = [[0 for x in range(w+1)] for x in range (n+1)]\n",
        "\n",
        "  #populate the table in a bottom-up approach\n",
        "  for i in range(n+1):\n",
        "    for w in range(w+1):\n",
        "      if i == 0 or w == 0:\n",
        "        table[i][w] = 0\n",
        "      elif wt[i-1] <= w:\n",
        "        table[i][w] = max(val[i-1] + table[i-1][w-wt[i-1]],\n",
        "                          table[i-1][w])\n",
        "  return table[n][w]"
      ],
      "metadata": {
        "id": "A8OU1sUJ_1ES"
      },
      "id": "A8OU1sUJ_1ES",
      "execution_count": null,
      "outputs": []
    },
    {
      "cell_type": "code",
      "source": [
        "#To test:\n",
        "val = [60, 100, 120]\n",
        "wt = [10, 20, 30]\n",
        "w = 50\n",
        "n = len(val)\n",
        "\n",
        "DP_knapSack(w, wt, val, n)"
      ],
      "metadata": {
        "colab": {
          "base_uri": "https://localhost:8080/"
        },
        "id": "GUNeEPHrd-N1",
        "outputId": "4829e602-248b-48f8-cbd3-e75c4d87d3b6"
      },
      "id": "GUNeEPHrd-N1",
      "execution_count": null,
      "outputs": [
        {
          "output_type": "execute_result",
          "data": {
            "text/plain": [
              "220"
            ]
          },
          "metadata": {},
          "execution_count": 29
        }
      ]
    },
    {
      "cell_type": "code",
      "source": [
        "#Sample for top-down DP approach (memoization)\n",
        "#initialize the list of items\n",
        "val = [60, 100, 120]\n",
        "wt = [10, 20, 30]\n",
        "w = 50\n",
        "n = len(val)\n",
        "\n",
        "#initialize the container for the values that have to be stored\n",
        "#values are initialized to -1\n",
        "calc =[[-1 for i in range(w+1)] for j in range(n+1)]\n",
        "\n",
        "\n",
        "def mem_knapSack(wt, val, w, n):\n",
        "  #base conditions\n",
        "  if n == 0 or w == 0:\n",
        "    return 0\n",
        "  if calc[n][w] != -1:\n",
        "    return calc[n][w]\n",
        "\n",
        "  #compute for the other cases\n",
        "  if wt[n-1] <= w:\n",
        "    calc[n][w] = max(val[n-1] + mem_knapSack(wt, val, w-wt[n-1], n-1),\n",
        "                     mem_knapSack(wt, val, w, n-1))\n",
        "    return calc[n][w]\n",
        "  elif wt[n-1] > w:\n",
        "    calc[n][w] = mem_knapSack(wt, val, w, n-1)\n",
        "    return calc[n][w]\n",
        "\n",
        "mem_knapSack(wt, val, w, n)"
      ],
      "metadata": {
        "id": "VgwTX-XT_0_h",
        "colab": {
          "base_uri": "https://localhost:8080/"
        },
        "outputId": "6f3c2cc6-01fc-433a-ae1e-cbb99976c028"
      },
      "id": "VgwTX-XT_0_h",
      "execution_count": null,
      "outputs": [
        {
          "output_type": "execute_result",
          "data": {
            "text/plain": [
              "220"
            ]
          },
          "metadata": {},
          "execution_count": 31
        }
      ]
    },
    {
      "cell_type": "markdown",
      "source": [
        "**Code Analysis** </br>\n",
        "All these programs"
      ],
      "metadata": {
        "id": "-UXSSblDcF8T"
      },
      "id": "-UXSSblDcF8T"
    },
    {
      "cell_type": "markdown",
      "source": [
        "## Seatwork 2.1"
      ],
      "metadata": {
        "id": "IGsdUGCUcTFd"
      },
      "id": "IGsdUGCUcTFd"
    },
    {
      "cell_type": "markdown",
      "id": "0462053d",
      "metadata": {
        "id": "0462053d"
      },
      "source": [
        "Task 1: Modify the three techniques to include additional criterion in the knapsack problems"
      ]
    },
    {
      "cell_type": "markdown",
      "source": [
        "The criterion added for this is the Value-to-Weight ratio. It sorts in a descending manner, so highest ratio first."
      ],
      "metadata": {
        "id": "FUXYvMcPI9jk"
      },
      "id": "FUXYvMcPI9jk"
    },
    {
      "cell_type": "markdown",
      "source": [
        "##Recursion"
      ],
      "metadata": {
        "id": "KGFLVGfhIkwb"
      },
      "id": "KGFLVGfhIkwb"
    },
    {
      "cell_type": "code",
      "execution_count": 11,
      "id": "ed2f6186",
      "metadata": {
        "id": "ed2f6186",
        "outputId": "b15db974-64f6-48a1-971e-e779aa922175",
        "colab": {
          "base_uri": "https://localhost:8080/"
        }
      },
      "outputs": [
        {
          "output_type": "stream",
          "name": "stdout",
          "text": [
            "Recursive Output: 220\n"
          ]
        }
      ],
      "source": [
        "#Recursion\n",
        "def rec_knapSack(w, wt, val, n):\n",
        "    # Base case: No items left or knapsack is full\n",
        "    if n == 0 or w == 0:\n",
        "        return 0\n",
        "\n",
        "    # If weight of the nth item is more than the knapsack capacity, skip it\n",
        "    if wt[n-1] > w:\n",
        "        return rec_knapSack(w, wt, val, n-1)\n",
        "\n",
        "    # Consider two cases: include or exclude the item\n",
        "    return max(\n",
        "        val[n-1] + rec_knapSack(w - wt[n-1], wt, val, n-1),\n",
        "        rec_knapSack(w, wt, val, n-1)\n",
        "    )\n",
        "\n",
        "# Input data\n",
        "val = [60, 100, 120]\n",
        "wt = [10, 20, 30]\n",
        "w = 50\n",
        "n = len(val)\n",
        "\n",
        "# Sort by value-to-weight ratio\n",
        "items = sorted(zip(val, wt), key=lambda x: x[0]/x[1], reverse=True)\n",
        "val, wt = zip(*items)\n",
        "\n",
        "# Call function\n",
        "print(\"Recursive Output:\", rec_knapSack(w, wt, val, n))"
      ]
    },
    {
      "cell_type": "markdown",
      "source": [
        "##Dynamic"
      ],
      "metadata": {
        "id": "BU_E9XqRIoZc"
      },
      "id": "BU_E9XqRIoZc"
    },
    {
      "cell_type": "code",
      "source": [
        "#Dynamic\n",
        "def DP_knapSack(w, wt, val, n):\n",
        "    # Create DP table\n",
        "    table = [[0 for x in range(w + 1)] for x in range(n + 1)]\n",
        "\n",
        "    # Fill table bottom-up\n",
        "    for i in range(n + 1):\n",
        "        for cap in range(w + 1):\n",
        "            if i == 0 or cap == 0:\n",
        "                table[i][cap] = 0\n",
        "            elif wt[i-1] <= cap:\n",
        "                table[i][cap] = max(val[i-1] + table[i-1][cap - wt[i-1]], table[i-1][cap])\n",
        "            else:\n",
        "                table[i][cap] = table[i-1][cap]\n",
        "\n",
        "    return table[n][w]\n",
        "\n",
        "# Input data\n",
        "val = [60, 100, 120]\n",
        "wt = [10, 20, 30]\n",
        "w = 50\n",
        "n = len(val)\n",
        "\n",
        "# Sort by value-to-weight ratio\n",
        "items = sorted(zip(val, wt), key=lambda x: x[0]/x[1], reverse=True)\n",
        "val, wt = zip(*items)\n",
        "\n",
        "# Call function\n",
        "print(\"Bottom-Up DP Output:\", DP_knapSack(w, wt, val, n))"
      ],
      "metadata": {
        "id": "7JfCqoaKIkND",
        "outputId": "8566700f-a5d8-4516-a7f3-fe9aabedecbd",
        "colab": {
          "base_uri": "https://localhost:8080/"
        }
      },
      "id": "7JfCqoaKIkND",
      "execution_count": 10,
      "outputs": [
        {
          "output_type": "stream",
          "name": "stdout",
          "text": [
            "Bottom-Up DP Output: 220\n"
          ]
        }
      ]
    },
    {
      "cell_type": "markdown",
      "source": [
        "##Memoization"
      ],
      "metadata": {
        "id": "C2Tp4bMMIru7"
      },
      "id": "C2Tp4bMMIru7"
    },
    {
      "cell_type": "code",
      "source": [
        "#Memoization\n",
        "def mem_knapSack(wt, val, w, n, memo):\n",
        "    if n == 0 or w == 0:\n",
        "        return 0\n",
        "\n",
        "    if memo[n][w] != -1:\n",
        "        return memo[n][w]\n",
        "\n",
        "    if wt[n-1] <= w:\n",
        "        memo[n][w] = max(val[n-1] + mem_knapSack(wt, val, w - wt[n-1], n-1, memo),\n",
        "                         mem_knapSack(wt, val, w, n-1, memo))\n",
        "    else:\n",
        "        memo[n][w] = mem_knapSack(wt, val, w, n-1, memo)\n",
        "\n",
        "    return memo[n][w]\n",
        "\n",
        "# Input data\n",
        "val = [60, 100, 120]\n",
        "wt = [10, 20, 30]\n",
        "w = 50\n",
        "n = len(val)\n",
        "\n",
        "# Sort by value-to-weight ratio\n",
        "items = sorted(zip(val, wt), key=lambda x: x[0]/x[1], reverse=True)\n",
        "val, wt = zip(*items)\n",
        "\n",
        "# Initialize memo table\n",
        "memo = [[-1 for _ in range(w + 1)] for _ in range(n + 1)]\n",
        "\n",
        "# Call function\n",
        "print(\"Memoization Output:\", mem_knapSack(wt, val, w, n, memo))\n"
      ],
      "metadata": {
        "id": "ddHT5_UKItms",
        "outputId": "74d8a5eb-981d-4600-8728-233614b2aeb8",
        "colab": {
          "base_uri": "https://localhost:8080/"
        }
      },
      "id": "ddHT5_UKItms",
      "execution_count": 9,
      "outputs": [
        {
          "output_type": "stream",
          "name": "stdout",
          "text": [
            "Memoization Output: 220\n"
          ]
        }
      ]
    },
    {
      "cell_type": "markdown",
      "id": "d97e864e",
      "metadata": {
        "id": "d97e864e"
      },
      "source": [
        "*Fibonacci* Numbers"
      ]
    },
    {
      "cell_type": "markdown",
      "id": "f44e88aa",
      "metadata": {
        "id": "f44e88aa"
      },
      "source": [
        "Task 2: Create a sample program that find the nth number of Fibonacci Series using Dynamic Programming"
      ]
    },
    {
      "cell_type": "code",
      "execution_count": 8,
      "id": "745871be",
      "metadata": {
        "id": "745871be",
        "outputId": "19443d3f-6935-4893-ddb0-b44adcca1889",
        "colab": {
          "base_uri": "https://localhost:8080/"
        }
      },
      "outputs": [
        {
          "output_type": "stream",
          "name": "stdout",
          "text": [
            "Enter the value of n: 9\n",
            "The 9th Fibonacci number is: 34\n"
          ]
        }
      ],
      "source": [
        "class Fibonacci:\n",
        "    def __init__(self, n):\n",
        "        \"\"\"\n",
        "        Initialize a list called memo with (n+1) elements since in this algorithm,\n",
        "        the results for indices from 0 to n will be stored in this list.\n",
        "        Temporarily, this list is just filled with \"None\" as a placeholder\n",
        "        for the Fibonacci values that haven't been computed.\n",
        "        \"\"\"\n",
        "        self.memo = [None] * (n + 1)\n",
        "\n",
        "    def get_fibonacci(self, n):\n",
        "        \"\"\"\n",
        "        Base case: If n = 0, return 0. If n = 1, return 1.\n",
        "        \"\"\"\n",
        "        if n <= 1:\n",
        "            return n\n",
        "\n",
        "        \"\"\"\n",
        "        Check if the Fibonacci value for n has already been computed.\n",
        "        If yes, return the stored value.\n",
        "        \"\"\"\n",
        "        if self.memo[n] is not None:\n",
        "            return self.memo[n]\n",
        "\n",
        "        \"\"\"\n",
        "        If the Fibonacci value has not been computed yet,\n",
        "        recursively compute it, store it in memo, and return the result.\n",
        "        \"\"\"\n",
        "        self.memo[n] = self.get_fibonacci(n - 1) + self.get_fibonacci(n - 2)\n",
        "        return self.memo[n]\n",
        "\n",
        "\"\"\"\n",
        "Print output based on n, which is given through user input.\n",
        "\"\"\"\n",
        "if __name__ == \"__main__\":\n",
        "    n = int(input(\"Enter the value of n: \"))\n",
        "    fib_instance = Fibonacci(n)\n",
        "    print(f\"The {n}th Fibonacci number is: {fib_instance.get_fibonacci(n)}\")\n"
      ]
    },
    {
      "cell_type": "markdown",
      "id": "070ddd75",
      "metadata": {
        "id": "070ddd75"
      },
      "source": [
        "## Supplementary Problem (HOA 2.1 Submission):\n",
        "* Choose a real-life problem\n",
        "* Use recursion and dynamic programming to solve the problem"
      ]
    },
    {
      "cell_type": "markdown",
      "source": [
        "The real-life problem I intend to solve is something I encounter when I go on a road trip. I easily get bored especially when all I'll do is just sightsee then stay at some sort of inn and nothing else. I bring my laptop with me, along with a hard drive that contains almost everything I'd asked for to alleviate my boredom. It only contains almost everything since the hard drive's capacity won't allow it to copy all the games and anime I have in my actual computer. </br>\n",
        "\n",
        "\n",
        "As such, these programming solutions aim to fit the games and other media in a way that it would choose the ones that I actually prefer. Since these solutions can't read my mind, I'll assign values based on how much I like each piece of media.\n",
        "\n",
        "Constraints are: file size and personal value"
      ],
      "metadata": {
        "id": "rkwkwi41EJE0"
      },
      "id": "rkwkwi41EJE0"
    },
    {
      "cell_type": "markdown",
      "source": [
        "#Using Recursion"
      ],
      "metadata": {
        "id": "0o1xvEPGHj5H"
      },
      "id": "0o1xvEPGHj5H"
    },
    {
      "cell_type": "code",
      "execution_count": 7,
      "id": "86eef507",
      "metadata": {
        "id": "86eef507",
        "outputId": "90b22656-bddc-42ad-b5ae-8f3c3efdb33b",
        "colab": {
          "base_uri": "https://localhost:8080/"
        }
      },
      "outputs": [
        {
          "output_type": "stream",
          "name": "stdout",
          "text": [
            "Use search tree to allocate 256 GB of space\n",
            "Total value of media taken = 550 hours\n",
            "    Frieren: 100 hours, 80 GB\n",
            "    Violet Evergarden: 180 hours, 18 GB\n",
            "    Elden Ring: 90 hours, 120 GB\n",
            "    Stardew Valley: 80 hours, 5 GB\n",
            "    Project Zomboid: 100 hours, 10 GB\n"
          ]
        }
      ],
      "source": [
        "#type your code here for recursion programming solution\n",
        "class Media:\n",
        "    def __init__(self, name, value, space):\n",
        "        self.name = name\n",
        "        self.value = value\n",
        "        self.space = space\n",
        "\n",
        "    def getValue(self):\n",
        "        return self.value\n",
        "\n",
        "    def getSpace(self):\n",
        "        return self.space\n",
        "\n",
        "    def __str__(self):\n",
        "        return f\"{self.name}: {self.value} hours, {self.space} GB\"\n",
        "\n",
        "def buildMenuRecursive(names, values, spaces, index=0):\n",
        "    \"\"\"Recursively builds a list of Media objects.\"\"\"\n",
        "    if index >= len(names):\n",
        "        return []\n",
        "    return [Media(names[index], values[index], spaces[index])] + buildMenuRecursive(names, values, spaces, index + 1)\n",
        "\n",
        "def maxVal(toConsider, avail):\n",
        "    \"\"\"Solves the knapsack problem using recursion.\"\"\"\n",
        "    if not toConsider or avail == 0:\n",
        "        return (0, ())\n",
        "    elif toConsider[0].getSpace() > avail:\n",
        "        return maxVal(toConsider[1:], avail)\n",
        "    else:\n",
        "        nextItem = toConsider[0]\n",
        "        # Take the media\n",
        "        withVal, withToTake = maxVal(toConsider[1:], avail - nextItem.getSpace())\n",
        "        withVal += nextItem.getValue()\n",
        "        # Skip the media\n",
        "        withoutVal, withoutToTake = maxVal(toConsider[1:], avail)\n",
        "        # Return the best choice\n",
        "        return (withVal, withToTake + (nextItem,)) if withVal > withoutVal else (withoutVal, withoutToTake)\n",
        "\n",
        "def printMediaRecursive(mediaList, index=0):\n",
        "    \"\"\"Recursively prints the media list.\"\"\"\n",
        "    if index >= len(mediaList):\n",
        "        return\n",
        "    print(\"   \", mediaList[index])\n",
        "    printMediaRecursive(mediaList, index + 1)\n",
        "\n",
        "def testMaxValRecursive(media, maxUnits):\n",
        "    print('Use search tree to allocate', maxUnits, 'GB of space')\n",
        "    val, taken = maxVal(media, maxUnits)\n",
        "    print('Total value of media taken =', val, 'hours')\n",
        "    printMediaRecursive(taken)\n",
        "\n",
        "# Example usage\n",
        "names = [\"Project Zomboid\", \"Stardew Valley\", \"Red Dead Redemption\", \"Elden Ring\", \"Violet Evergarden\", \"Frieren\"]\n",
        "values = [100, 80, 30, 90, 180, 100]  # Playtime in hours\n",
        "spaces = [10, 5, 210, 120, 18, 80]  # Storage space in GB\n",
        "\n",
        "media = buildMenuRecursive(names, values, spaces)\n",
        "\n",
        "testMaxValRecursive(media, 256)\n"
      ]
    },
    {
      "cell_type": "markdown",
      "source": [
        "#Using Dynamic Programming"
      ],
      "metadata": {
        "id": "rnPRY4X-HniA"
      },
      "id": "rnPRY4X-HniA"
    },
    {
      "cell_type": "code",
      "execution_count": 4,
      "id": "73b071b6",
      "metadata": {
        "id": "73b071b6",
        "outputId": "f7fb359b-6a4e-4765-a20f-17f7e1dfc506",
        "colab": {
          "base_uri": "https://localhost:8080/"
        }
      },
      "outputs": [
        {
          "output_type": "stream",
          "name": "stdout",
          "text": [
            "Using DP to allocate 256 GB of space\n",
            "Total value of media taken = 550 hours\n",
            "    Project Zomboid: 100 hours, 10 GB\n",
            "    Stardew Valley: 80 hours, 5 GB\n",
            "    Elden Ring: 90 hours, 120 GB\n",
            "    Violet Evergarden: 180 hours, 18 GB\n",
            "    Frieren: 100 hours, 80 GB\n"
          ]
        }
      ],
      "source": [
        "#type your code here for dynamic programming solution\n",
        "class Media:\n",
        "    \"\"\"\n",
        "    initialize names and variables involved\n",
        "    \"\"\"\n",
        "    def __init__(self, name, value, space):\n",
        "        self.name = name\n",
        "        self.value = value\n",
        "        self.space = space\n",
        "\n",
        "    def getValue(self):\n",
        "        return self.value\n",
        "\n",
        "    def getSpace(self):\n",
        "        return self.space\n",
        "\n",
        "    def __str__(self):\n",
        "        return f\"{self.name}: {self.value} hours, {self.space} GB\"\n",
        "\n",
        "def buildMenu(names, values, spaces):\n",
        "    \"\"\"Creates a list of Media objects, instead of calling a function recursively\"\"\"\n",
        "    return [Media(names[i], values[i], spaces[i]) for i in range(len(names))]\n",
        "\n",
        "def maxValDP(mediaList, maxSpace):\n",
        "    \"\"\"This is the part where the algorithm actually solves the problem using a bottom-up approach.\"\"\"\n",
        "    n = len(mediaList)\n",
        "    dp = [[0] * (maxSpace + 1) for _ in range(n + 1)]\n",
        "\n",
        "    # Fill the DP table\n",
        "    for i in range(1, n + 1):\n",
        "        media = mediaList[i - 1]\n",
        "        for w in range(maxSpace + 1):\n",
        "            if media.getSpace() > w:\n",
        "                dp[i][w] = dp[i - 1][w]  # Can't take this item\n",
        "            else:\n",
        "                dp[i][w] = max(dp[i - 1][w], dp[i - 1][w - media.getSpace()] + media.getValue())\n",
        "\n",
        "    # Backtrack to find selected media\n",
        "    selected_media = []\n",
        "    i, w = n, maxSpace\n",
        "    while i > 0 and w > 0:\n",
        "        if dp[i][w] != dp[i - 1][w]:  # This item was included\n",
        "            selected_media.append(mediaList[i - 1])\n",
        "            w -= mediaList[i - 1].getSpace()\n",
        "        i -= 1\n",
        "\n",
        "    selected_media.reverse()  # To maintain original order\n",
        "    return dp[n][maxSpace], selected_media\n",
        "\n",
        "def testMaxValDP(media, maxUnits):\n",
        "    print('Using DP to allocate', maxUnits, 'GB of space')\n",
        "    val, taken = maxValDP(media, maxUnits)\n",
        "    print('Total value of media taken =', val, 'hours')\n",
        "    for item in taken:\n",
        "        print('   ', item)\n",
        "\n",
        "# Example usage\n",
        "names = [\"Project Zomboid\", \"Stardew Valley\", \"Red Dead Redemption\", \"Elden Ring\", \"Violet Evergarden\", \"Frieren\"]\n",
        "values = [100, 80, 30, 90, 180, 100]  # Playtime or watchtime in hours\n",
        "spaces = [10, 5, 210, 120, 18, 80]  # Storage space in GB\n",
        "\n",
        "media = buildMenu(names, values, spaces)\n",
        "\n",
        "testMaxValDP(media, 256)\n"
      ]
    },
    {
      "cell_type": "markdown",
      "id": "bb0ed6a9",
      "metadata": {
        "id": "bb0ed6a9"
      },
      "source": [
        "# Conclusion"
      ]
    },
    {
      "cell_type": "code",
      "execution_count": null,
      "id": "9627d18c",
      "metadata": {
        "id": "9627d18c"
      },
      "outputs": [],
      "source": [
        "#type your answer here"
      ]
    }
  ],
  "metadata": {
    "kernelspec": {
      "display_name": "Python 3",
      "language": "python",
      "name": "python3"
    },
    "language_info": {
      "codemirror_mode": {
        "name": "ipython",
        "version": 3
      },
      "file_extension": ".py",
      "mimetype": "text/x-python",
      "name": "python",
      "nbconvert_exporter": "python",
      "pygments_lexer": "ipython3",
      "version": "3.7.10"
    },
    "colab": {
      "provenance": [],
      "include_colab_link": true
    }
  },
  "nbformat": 4,
  "nbformat_minor": 5
}