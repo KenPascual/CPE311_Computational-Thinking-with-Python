{
 "cells": [
  {
   "cell_type": "code",
   "execution_count": 1,
   "id": "c53a67bd-3ff4-405b-ae6f-15701abd490e",
   "metadata": {},
   "outputs": [],
   "source": [
    "#Prelim Quiz 2"
   ]
  },
  {
   "cell_type": "code",
   "execution_count": null,
   "id": "d824d28b-eb31-4910-9ec1-c63fb3e3d08e",
   "metadata": {},
   "outputs": [],
   "source": [
    "\"\"\"\n",
    "Problem:\n",
    "You are given n types of coin denominations of values v(1) < v(2) < ... < v(n) (all integers). \n",
    "Assume v(1) = 1, so you can always make change for any amount of money C. \n",
    "Give an algorithm which makes change for an amount of money C with as few coins as possible.\n",
    "\"\"\""
   ]
  },
  {
   "cell_type": "code",
   "execution_count": 10,
   "id": "bd4573d5-4a87-4ce0-8a57-586aff5864e1",
   "metadata": {},
   "outputs": [
    {
     "name": "stdin",
     "output_type": "stream",
     "text": [
      "Magkano? :  20\n"
     ]
    },
    {
     "ename": "AttributeError",
     "evalue": "'dict' object has no attribute 'append'",
     "output_type": "error",
     "traceback": [
      "\u001b[1;31m---------------------------------------------------------------------------\u001b[0m",
      "\u001b[1;31mAttributeError\u001b[0m                            Traceback (most recent call last)",
      "Cell \u001b[1;32mIn[10], line 29\u001b[0m\n\u001b[0;32m     25\u001b[0m MyWallet \u001b[38;5;241m=\u001b[39m { } \n\u001b[0;32m     27\u001b[0m CashMoney \u001b[38;5;241m=\u001b[39m \u001b[38;5;28mint\u001b[39m(\u001b[38;5;28minput\u001b[39m(\u001b[38;5;124m\"\u001b[39m\u001b[38;5;124mMagkano? : \u001b[39m\u001b[38;5;124m\"\u001b[39m))\n\u001b[1;32m---> 29\u001b[0m Pabarya(CashMoney, MyWallet)\n",
      "Cell \u001b[1;32mIn[10], line 6\u001b[0m, in \u001b[0;36mPabarya\u001b[1;34m(n, coins)\u001b[0m\n\u001b[0;32m      4\u001b[0m \u001b[38;5;28;01mif\u001b[39;00m n \u001b[38;5;241m>\u001b[39m\u001b[38;5;241m=\u001b[39m\u001b[38;5;241m20\u001b[39m:\n\u001b[0;32m      5\u001b[0m     TBD \u001b[38;5;241m=\u001b[39m n \u001b[38;5;241m-\u001b[39m \u001b[38;5;241m20\u001b[39m\n\u001b[1;32m----> 6\u001b[0m     coins \u001b[38;5;241m=\u001b[39m MyWallet\u001b[38;5;241m.\u001b[39mappend (TBD \u001b[38;5;241m-\u001b[39m \u001b[38;5;241m20\u001b[39m)\n\u001b[0;32m      7\u001b[0m     \u001b[38;5;28;01mreturn\u001b[39;00m coins\n\u001b[0;32m      8\u001b[0m \u001b[38;5;28;01mif\u001b[39;00m n \u001b[38;5;241m>\u001b[39m\u001b[38;5;241m=\u001b[39m\u001b[38;5;241m10\u001b[39m:\n",
      "\u001b[1;31mAttributeError\u001b[0m: 'dict' object has no attribute 'append'"
     ]
    }
   ],
   "source": [
    "def Pabarya (n, coins):\n",
    "    if n == 1:\n",
    "        return coins \n",
    "    if n >=20:\n",
    "        TBD = n - 20\n",
    "        coins = MyWallet.append (TBD - 20)\n",
    "        return coins\n",
    "    if n >=10:\n",
    "        TBD = n - 10\n",
    "        coins = MyWallet.append (TBD - 10)\n",
    "        return coins\n",
    "    if n >=5:\n",
    "        TBD = n - 5\n",
    "        coins = MyWallet.append (TBD - 5)\n",
    "        return coins\n",
    "    if n > 1:\n",
    "        TBD = n - 1\n",
    "        coins = MyWallet.append (TBD - 1)\n",
    "        return coins\n",
    "\n",
    "\n",
    "\n",
    "barya = [1,2,5,10,20]\n",
    "\n",
    "MyWallet = { } \n",
    "\n",
    "CashMoney = int(input(\"Magkano? : \"))\n",
    "\n",
    "Pabarya(CashMoney, MyWallet)"
   ]
  },
  {
   "cell_type": "code",
   "execution_count": 5,
   "id": "c2d84925-249c-4ec6-b815-0973d84fde3e",
   "metadata": {
    "scrolled": true
   },
   "outputs": [
    {
     "name": "stdin",
     "output_type": "stream",
     "text": [
      "Magkano? :  20\n"
     ]
    },
    {
     "ename": "NameError",
     "evalue": "name 'Pabarya' is not defined",
     "output_type": "error",
     "traceback": [
      "\u001b[1;31m---------------------------------------------------------------------------\u001b[0m",
      "\u001b[1;31mNameError\u001b[0m                                 Traceback (most recent call last)",
      "Cell \u001b[1;32mIn[5], line 5\u001b[0m\n\u001b[0;32m      1\u001b[0m MyWallet \u001b[38;5;241m=\u001b[39m { } \n\u001b[0;32m      3\u001b[0m CashMoney \u001b[38;5;241m=\u001b[39m \u001b[38;5;28minput\u001b[39m(\u001b[38;5;124m\"\u001b[39m\u001b[38;5;124mMagkano? : \u001b[39m\u001b[38;5;124m\"\u001b[39m)\n\u001b[1;32m----> 5\u001b[0m Pabarya(CashMoney, MyWallet)\n",
      "\u001b[1;31mNameError\u001b[0m: name 'Pabarya' is not defined"
     ]
    }
   ],
   "source": []
  },
  {
   "cell_type": "code",
   "execution_count": null,
   "id": "32227495-ac16-4cad-a70c-fe6a4a5b2b3f",
   "metadata": {},
   "outputs": [],
   "source": []
  }
 ],
 "metadata": {
  "kernelspec": {
   "display_name": "Python 3 (ipykernel)",
   "language": "python",
   "name": "python3"
  },
  "language_info": {
   "codemirror_mode": {
    "name": "ipython",
    "version": 3
   },
   "file_extension": ".py",
   "mimetype": "text/x-python",
   "name": "python",
   "nbconvert_exporter": "python",
   "pygments_lexer": "ipython3",
   "version": "3.12.4"
  }
 },
 "nbformat": 4,
 "nbformat_minor": 5
}
